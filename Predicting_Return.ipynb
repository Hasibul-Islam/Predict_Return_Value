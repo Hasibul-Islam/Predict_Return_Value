{
 "cells": [
  {
   "cell_type": "code",
   "execution_count": 392,
   "metadata": {},
   "outputs": [],
   "source": [
    "import matplotlib.pyplot as plt\n",
    "%matplotlib inline\n",
    "import seaborn as sns\n",
    "sns.set() # Apply the default seaborn theme, scaling, and color palette\n",
    "\n",
    "import pandas as pd\n",
    "import numpy as np\n",
    "\n",
    "import warnings\n",
    "warnings.filterwarnings(\"ignore\")"
   ]
  },
  {
   "cell_type": "code",
   "execution_count": 393,
   "metadata": {},
   "outputs": [
    {
     "data": {
      "text/html": [
       "<div>\n",
       "<style scoped>\n",
       "    .dataframe tbody tr th:only-of-type {\n",
       "        vertical-align: middle;\n",
       "    }\n",
       "\n",
       "    .dataframe tbody tr th {\n",
       "        vertical-align: top;\n",
       "    }\n",
       "\n",
       "    .dataframe thead th {\n",
       "        text-align: right;\n",
       "    }\n",
       "</style>\n",
       "<table border=\"1\" class=\"dataframe\">\n",
       "  <thead>\n",
       "    <tr style=\"text-align: right;\">\n",
       "      <th></th>\n",
       "      <th>OrderId</th>\n",
       "      <th>UserId</th>\n",
       "      <th>OrderValue</th>\n",
       "      <th>PaymentType</th>\n",
       "      <th>District</th>\n",
       "      <th>OrderSource</th>\n",
       "      <th>OrderType</th>\n",
       "      <th>DeliveryCharge</th>\n",
       "      <th>OrderPlacedDay</th>\n",
       "      <th>OrderConfirmDayOverPhone</th>\n",
       "      <th>IsCartOrder</th>\n",
       "      <th>OrderFromPromotionalEvent</th>\n",
       "      <th>isRTO</th>\n",
       "    </tr>\n",
       "  </thead>\n",
       "  <tbody>\n",
       "    <tr>\n",
       "      <th>0</th>\n",
       "      <td>2562691</td>\n",
       "      <td>663791</td>\n",
       "      <td>168</td>\n",
       "      <td>MPD</td>\n",
       "      <td>Dhaka</td>\n",
       "      <td>android</td>\n",
       "      <td>normal</td>\n",
       "      <td>25.0</td>\n",
       "      <td>6/26/2019 9:20</td>\n",
       "      <td>6/26/2019 3:30</td>\n",
       "      <td>No</td>\n",
       "      <td>Yes</td>\n",
       "      <td>No</td>\n",
       "    </tr>\n",
       "    <tr>\n",
       "      <th>1</th>\n",
       "      <td>2561859</td>\n",
       "      <td>961083</td>\n",
       "      <td>240</td>\n",
       "      <td>MPD</td>\n",
       "      <td>Dhaka</td>\n",
       "      <td>mobile-site</td>\n",
       "      <td>normal</td>\n",
       "      <td>35.0</td>\n",
       "      <td>6/25/2019 19:05</td>\n",
       "      <td>6/25/2019 13:40</td>\n",
       "      <td>No</td>\n",
       "      <td>Yes</td>\n",
       "      <td>No</td>\n",
       "    </tr>\n",
       "    <tr>\n",
       "      <th>2</th>\n",
       "      <td>2561434</td>\n",
       "      <td>848517</td>\n",
       "      <td>120</td>\n",
       "      <td>MPD</td>\n",
       "      <td>Dhaka</td>\n",
       "      <td>desktop</td>\n",
       "      <td>normal</td>\n",
       "      <td>35.0</td>\n",
       "      <td>6/25/2019 15:28</td>\n",
       "      <td>6/25/2019 9:27</td>\n",
       "      <td>No</td>\n",
       "      <td>Yes</td>\n",
       "      <td>Yes</td>\n",
       "    </tr>\n",
       "    <tr>\n",
       "      <th>3</th>\n",
       "      <td>2561202</td>\n",
       "      <td>276304</td>\n",
       "      <td>185</td>\n",
       "      <td>MPD</td>\n",
       "      <td>Dhaka</td>\n",
       "      <td>android</td>\n",
       "      <td>normal</td>\n",
       "      <td>25.0</td>\n",
       "      <td>6/25/2019 13:27</td>\n",
       "      <td>6/25/2019 7:27</td>\n",
       "      <td>Yes</td>\n",
       "      <td>No</td>\n",
       "      <td>No</td>\n",
       "    </tr>\n",
       "    <tr>\n",
       "      <th>4</th>\n",
       "      <td>2561033</td>\n",
       "      <td>955384</td>\n",
       "      <td>201</td>\n",
       "      <td>MPD</td>\n",
       "      <td>Dhaka</td>\n",
       "      <td>android</td>\n",
       "      <td>normal</td>\n",
       "      <td>25.0</td>\n",
       "      <td>6/25/2019 12:13</td>\n",
       "      <td>6/25/2019 6:56</td>\n",
       "      <td>No</td>\n",
       "      <td>Yes</td>\n",
       "      <td>No</td>\n",
       "    </tr>\n",
       "  </tbody>\n",
       "</table>\n",
       "</div>"
      ],
      "text/plain": [
       "   OrderId  UserId  OrderValue           PaymentType District  OrderSource  \\\n",
       "0  2562691  663791         168  MPD                     Dhaka      android   \n",
       "1  2561859  961083         240  MPD                     Dhaka  mobile-site   \n",
       "2  2561434  848517         120  MPD                     Dhaka      desktop   \n",
       "3  2561202  276304         185  MPD                     Dhaka      android   \n",
       "4  2561033  955384         201  MPD                     Dhaka      android   \n",
       "\n",
       "  OrderType  DeliveryCharge   OrderPlacedDay OrderConfirmDayOverPhone  \\\n",
       "0    normal            25.0   6/26/2019 9:20           6/26/2019 3:30   \n",
       "1    normal            35.0  6/25/2019 19:05          6/25/2019 13:40   \n",
       "2    normal            35.0  6/25/2019 15:28           6/25/2019 9:27   \n",
       "3    normal            25.0  6/25/2019 13:27           6/25/2019 7:27   \n",
       "4    normal            25.0  6/25/2019 12:13           6/25/2019 6:56   \n",
       "\n",
       "  IsCartOrder OrderFromPromotionalEvent isRTO  \n",
       "0          No                       Yes    No  \n",
       "1          No                       Yes    No  \n",
       "2          No                       Yes   Yes  \n",
       "3         Yes                        No    No  \n",
       "4          No                       Yes    No  "
      ]
     },
     "execution_count": 393,
     "metadata": {},
     "output_type": "execute_result"
    }
   ],
   "source": [
    "df = pd.read_csv(\"RTOdata.csv\")\n",
    "df.head()"
   ]
  },
  {
   "cell_type": "code",
   "execution_count": 394,
   "metadata": {},
   "outputs": [
    {
     "data": {
      "text/plain": [
       "OrderId                        0\n",
       "UserId                         0\n",
       "OrderValue                     0\n",
       "PaymentType                    0\n",
       "District                       0\n",
       "OrderSource                    0\n",
       "OrderType                    417\n",
       "DeliveryCharge                 1\n",
       "OrderPlacedDay                 0\n",
       "OrderConfirmDayOverPhone       0\n",
       "IsCartOrder                    0\n",
       "OrderFromPromotionalEvent      0\n",
       "isRTO                          0\n",
       "dtype: int64"
      ]
     },
     "execution_count": 394,
     "metadata": {},
     "output_type": "execute_result"
    }
   ],
   "source": [
    "df.isna().sum()"
   ]
  },
  {
   "cell_type": "code",
   "execution_count": 395,
   "metadata": {},
   "outputs": [
    {
     "data": {
      "text/html": [
       "<div>\n",
       "<style scoped>\n",
       "    .dataframe tbody tr th:only-of-type {\n",
       "        vertical-align: middle;\n",
       "    }\n",
       "\n",
       "    .dataframe tbody tr th {\n",
       "        vertical-align: top;\n",
       "    }\n",
       "\n",
       "    .dataframe thead th {\n",
       "        text-align: right;\n",
       "    }\n",
       "</style>\n",
       "<table border=\"1\" class=\"dataframe\">\n",
       "  <thead>\n",
       "    <tr style=\"text-align: right;\">\n",
       "      <th></th>\n",
       "      <th>OrderId</th>\n",
       "      <th>UserId</th>\n",
       "      <th>OrderValue</th>\n",
       "      <th>PaymentType</th>\n",
       "      <th>District</th>\n",
       "      <th>OrderSource</th>\n",
       "      <th>OrderType</th>\n",
       "      <th>DeliveryCharge</th>\n",
       "      <th>OrderPlacedDay</th>\n",
       "      <th>OrderConfirmDayOverPhone</th>\n",
       "      <th>IsCartOrder</th>\n",
       "      <th>OrderFromPromotionalEvent</th>\n",
       "      <th>isRTO</th>\n",
       "    </tr>\n",
       "  </thead>\n",
       "  <tbody>\n",
       "    <tr>\n",
       "      <th>count</th>\n",
       "      <td>1.000000e+04</td>\n",
       "      <td>10000.000000</td>\n",
       "      <td>10000.00000</td>\n",
       "      <td>10000</td>\n",
       "      <td>10000</td>\n",
       "      <td>10000</td>\n",
       "      <td>9583</td>\n",
       "      <td>9999.000000</td>\n",
       "      <td>10000</td>\n",
       "      <td>10000</td>\n",
       "      <td>10000</td>\n",
       "      <td>10000</td>\n",
       "      <td>10000</td>\n",
       "    </tr>\n",
       "    <tr>\n",
       "      <th>unique</th>\n",
       "      <td>NaN</td>\n",
       "      <td>NaN</td>\n",
       "      <td>NaN</td>\n",
       "      <td>7</td>\n",
       "      <td>69</td>\n",
       "      <td>9</td>\n",
       "      <td>2</td>\n",
       "      <td>NaN</td>\n",
       "      <td>7138</td>\n",
       "      <td>6359</td>\n",
       "      <td>2</td>\n",
       "      <td>2</td>\n",
       "      <td>2</td>\n",
       "    </tr>\n",
       "    <tr>\n",
       "      <th>top</th>\n",
       "      <td>NaN</td>\n",
       "      <td>NaN</td>\n",
       "      <td>NaN</td>\n",
       "      <td>MPD</td>\n",
       "      <td>Dhaka</td>\n",
       "      <td>android</td>\n",
       "      <td>normal</td>\n",
       "      <td>NaN</td>\n",
       "      <td>6/15/2019 16:23</td>\n",
       "      <td>6/15/2019 7:01</td>\n",
       "      <td>No</td>\n",
       "      <td>No</td>\n",
       "      <td>No</td>\n",
       "    </tr>\n",
       "    <tr>\n",
       "      <th>freq</th>\n",
       "      <td>NaN</td>\n",
       "      <td>NaN</td>\n",
       "      <td>NaN</td>\n",
       "      <td>8553</td>\n",
       "      <td>3784</td>\n",
       "      <td>8720</td>\n",
       "      <td>8809</td>\n",
       "      <td>NaN</td>\n",
       "      <td>16</td>\n",
       "      <td>19</td>\n",
       "      <td>6000</td>\n",
       "      <td>5046</td>\n",
       "      <td>8465</td>\n",
       "    </tr>\n",
       "    <tr>\n",
       "      <th>mean</th>\n",
       "      <td>2.539235e+06</td>\n",
       "      <td>760484.345100</td>\n",
       "      <td>336.97160</td>\n",
       "      <td>NaN</td>\n",
       "      <td>NaN</td>\n",
       "      <td>NaN</td>\n",
       "      <td>NaN</td>\n",
       "      <td>33.782678</td>\n",
       "      <td>NaN</td>\n",
       "      <td>NaN</td>\n",
       "      <td>NaN</td>\n",
       "      <td>NaN</td>\n",
       "      <td>NaN</td>\n",
       "    </tr>\n",
       "    <tr>\n",
       "      <th>std</th>\n",
       "      <td>9.560667e+03</td>\n",
       "      <td>244170.093658</td>\n",
       "      <td>435.38002</td>\n",
       "      <td>NaN</td>\n",
       "      <td>NaN</td>\n",
       "      <td>NaN</td>\n",
       "      <td>NaN</td>\n",
       "      <td>24.795291</td>\n",
       "      <td>NaN</td>\n",
       "      <td>NaN</td>\n",
       "      <td>NaN</td>\n",
       "      <td>NaN</td>\n",
       "      <td>NaN</td>\n",
       "    </tr>\n",
       "    <tr>\n",
       "      <th>min</th>\n",
       "      <td>2.522672e+06</td>\n",
       "      <td>83.000000</td>\n",
       "      <td>0.00000</td>\n",
       "      <td>NaN</td>\n",
       "      <td>NaN</td>\n",
       "      <td>NaN</td>\n",
       "      <td>NaN</td>\n",
       "      <td>0.000000</td>\n",
       "      <td>NaN</td>\n",
       "      <td>NaN</td>\n",
       "      <td>NaN</td>\n",
       "      <td>NaN</td>\n",
       "      <td>NaN</td>\n",
       "    </tr>\n",
       "    <tr>\n",
       "      <th>25%</th>\n",
       "      <td>2.531893e+06</td>\n",
       "      <td>616375.750000</td>\n",
       "      <td>160.00000</td>\n",
       "      <td>NaN</td>\n",
       "      <td>NaN</td>\n",
       "      <td>NaN</td>\n",
       "      <td>NaN</td>\n",
       "      <td>25.000000</td>\n",
       "      <td>NaN</td>\n",
       "      <td>NaN</td>\n",
       "      <td>NaN</td>\n",
       "      <td>NaN</td>\n",
       "      <td>NaN</td>\n",
       "    </tr>\n",
       "    <tr>\n",
       "      <th>50%</th>\n",
       "      <td>2.538966e+06</td>\n",
       "      <td>883312.000000</td>\n",
       "      <td>230.00000</td>\n",
       "      <td>NaN</td>\n",
       "      <td>NaN</td>\n",
       "      <td>NaN</td>\n",
       "      <td>NaN</td>\n",
       "      <td>25.000000</td>\n",
       "      <td>NaN</td>\n",
       "      <td>NaN</td>\n",
       "      <td>NaN</td>\n",
       "      <td>NaN</td>\n",
       "      <td>NaN</td>\n",
       "    </tr>\n",
       "    <tr>\n",
       "      <th>75%</th>\n",
       "      <td>2.546397e+06</td>\n",
       "      <td>950553.000000</td>\n",
       "      <td>386.25000</td>\n",
       "      <td>NaN</td>\n",
       "      <td>NaN</td>\n",
       "      <td>NaN</td>\n",
       "      <td>NaN</td>\n",
       "      <td>55.000000</td>\n",
       "      <td>NaN</td>\n",
       "      <td>NaN</td>\n",
       "      <td>NaN</td>\n",
       "      <td>NaN</td>\n",
       "      <td>NaN</td>\n",
       "    </tr>\n",
       "    <tr>\n",
       "      <th>max</th>\n",
       "      <td>2.562691e+06</td>\n",
       "      <td>961083.000000</td>\n",
       "      <td>12800.00000</td>\n",
       "      <td>NaN</td>\n",
       "      <td>NaN</td>\n",
       "      <td>NaN</td>\n",
       "      <td>NaN</td>\n",
       "      <td>500.000000</td>\n",
       "      <td>NaN</td>\n",
       "      <td>NaN</td>\n",
       "      <td>NaN</td>\n",
       "      <td>NaN</td>\n",
       "      <td>NaN</td>\n",
       "    </tr>\n",
       "  </tbody>\n",
       "</table>\n",
       "</div>"
      ],
      "text/plain": [
       "             OrderId         UserId   OrderValue           PaymentType  \\\n",
       "count   1.000000e+04   10000.000000  10000.00000                 10000   \n",
       "unique           NaN            NaN          NaN                     7   \n",
       "top              NaN            NaN          NaN  MPD                    \n",
       "freq             NaN            NaN          NaN                  8553   \n",
       "mean    2.539235e+06  760484.345100    336.97160                   NaN   \n",
       "std     9.560667e+03  244170.093658    435.38002                   NaN   \n",
       "min     2.522672e+06      83.000000      0.00000                   NaN   \n",
       "25%     2.531893e+06  616375.750000    160.00000                   NaN   \n",
       "50%     2.538966e+06  883312.000000    230.00000                   NaN   \n",
       "75%     2.546397e+06  950553.000000    386.25000                   NaN   \n",
       "max     2.562691e+06  961083.000000  12800.00000                   NaN   \n",
       "\n",
       "       District OrderSource OrderType  DeliveryCharge   OrderPlacedDay  \\\n",
       "count     10000       10000      9583     9999.000000            10000   \n",
       "unique       69           9         2             NaN             7138   \n",
       "top       Dhaka     android    normal             NaN  6/15/2019 16:23   \n",
       "freq       3784        8720      8809             NaN               16   \n",
       "mean        NaN         NaN       NaN       33.782678              NaN   \n",
       "std         NaN         NaN       NaN       24.795291              NaN   \n",
       "min         NaN         NaN       NaN        0.000000              NaN   \n",
       "25%         NaN         NaN       NaN       25.000000              NaN   \n",
       "50%         NaN         NaN       NaN       25.000000              NaN   \n",
       "75%         NaN         NaN       NaN       55.000000              NaN   \n",
       "max         NaN         NaN       NaN      500.000000              NaN   \n",
       "\n",
       "       OrderConfirmDayOverPhone IsCartOrder OrderFromPromotionalEvent  isRTO  \n",
       "count                     10000       10000                     10000  10000  \n",
       "unique                     6359           2                         2      2  \n",
       "top              6/15/2019 7:01          No                        No     No  \n",
       "freq                         19        6000                      5046   8465  \n",
       "mean                        NaN         NaN                       NaN    NaN  \n",
       "std                         NaN         NaN                       NaN    NaN  \n",
       "min                         NaN         NaN                       NaN    NaN  \n",
       "25%                         NaN         NaN                       NaN    NaN  \n",
       "50%                         NaN         NaN                       NaN    NaN  \n",
       "75%                         NaN         NaN                       NaN    NaN  \n",
       "max                         NaN         NaN                       NaN    NaN  "
      ]
     },
     "execution_count": 395,
     "metadata": {},
     "output_type": "execute_result"
    }
   ],
   "source": [
    "df.describe(include='all')"
   ]
  },
  {
   "cell_type": "code",
   "execution_count": 396,
   "metadata": {},
   "outputs": [
    {
     "data": {
      "text/plain": [
       "array(['MPD                 ', 'ADC                 ',\n",
       "       'MPC                 ', 'OPS                 ',\n",
       "       'MPS                 ', 'EMI                 ',\n",
       "       'E-COD               '], dtype=object)"
      ]
     },
     "execution_count": 396,
     "metadata": {},
     "output_type": "execute_result"
    }
   ],
   "source": [
    "df['PaymentType'].unique()"
   ]
  },
  {
   "cell_type": "code",
   "execution_count": 397,
   "metadata": {
    "scrolled": true
   },
   "outputs": [
    {
     "data": {
      "text/plain": [
       "array(['android', 'mobile-site', 'desktop', '-1', 'Others', 'byphone',\n",
       "       'ajkerdeal', 'www.google.com', 'A2I'], dtype=object)"
      ]
     },
     "execution_count": 397,
     "metadata": {},
     "output_type": "execute_result"
    }
   ],
   "source": [
    "df['OrderSource'].unique()"
   ]
  },
  {
   "cell_type": "code",
   "execution_count": 398,
   "metadata": {},
   "outputs": [
    {
     "data": {
      "text/plain": [
       "array(['normal', nan, 'express'], dtype=object)"
      ]
     },
     "execution_count": 398,
     "metadata": {},
     "output_type": "execute_result"
    }
   ],
   "source": [
    "df['OrderType'].unique()"
   ]
  },
  {
   "cell_type": "code",
   "execution_count": 399,
   "metadata": {},
   "outputs": [
    {
     "data": {
      "text/plain": [
       "array([      25.0000000,       35.0000000,       55.0000000,\n",
       "              0.0000000,       30.0000000,       65.0000000,\n",
       "             75.0000000,       45.0000000,       19.0000000,\n",
       "                    nan,      100.0000000,       95.0000000,\n",
       "             50.0000000,      200.0000000,      500.0000000,\n",
       "             24.0000000,       10.0000000])"
      ]
     },
     "execution_count": 399,
     "metadata": {},
     "output_type": "execute_result"
    }
   ],
   "source": [
    "df['DeliveryCharge'].unique()"
   ]
  },
  {
   "cell_type": "code",
   "execution_count": 400,
   "metadata": {},
   "outputs": [],
   "source": [
    "# df['OrderType'].fillna(df['OrderType'].value_counts().idxmax(),inplace=True)"
   ]
  },
  {
   "cell_type": "code",
   "execution_count": 401,
   "metadata": {},
   "outputs": [],
   "source": [
    "for ind in df.index:\n",
    "    if pd.isnull(df['OrderType'][ind]):\n",
    "        if df['DeliveryCharge'][ind] >=75:\n",
    "            df['OrderType'][ind] = 'express'\n",
    "        else:\n",
    "            df['OrderType'][ind]='normal'"
   ]
  },
  {
   "cell_type": "code",
   "execution_count": 402,
   "metadata": {},
   "outputs": [],
   "source": [
    "for ind in df.index:\n",
    "    if pd.isnull(df['DeliveryCharge'][ind]):\n",
    "        if df['OrderType'][ind] =='express':\n",
    "            df['DeliveryCharge'][ind] = 75\n",
    "        else:\n",
    "            df['DeliveryCharge'][ind]=55"
   ]
  },
  {
   "cell_type": "code",
   "execution_count": 403,
   "metadata": {
    "scrolled": true
   },
   "outputs": [
    {
     "data": {
      "text/plain": [
       "OrderId                      0\n",
       "UserId                       0\n",
       "OrderValue                   0\n",
       "PaymentType                  0\n",
       "District                     0\n",
       "OrderSource                  0\n",
       "OrderType                    0\n",
       "DeliveryCharge               0\n",
       "OrderPlacedDay               0\n",
       "OrderConfirmDayOverPhone     0\n",
       "IsCartOrder                  0\n",
       "OrderFromPromotionalEvent    0\n",
       "isRTO                        0\n",
       "dtype: int64"
      ]
     },
     "execution_count": 403,
     "metadata": {},
     "output_type": "execute_result"
    }
   ],
   "source": [
    "df.isna().sum()"
   ]
  },
  {
   "cell_type": "code",
   "execution_count": 404,
   "metadata": {},
   "outputs": [
    {
     "data": {
      "image/png": "[encoded data removed]",
      "text/plain": [
       "<Figure size 432x288 with 1 Axes>"
      ]
     },
     "metadata": {},
     "output_type": "display_data"
    }
   ],
   "source": [
    "plot = sns.countplot(df[\"isRTO\"])"
   ]
  },
  {
   "cell_type": "code",
   "execution_count": 405,
   "metadata": {
    "scrolled": true
   },
   "outputs": [
    {
     "data": {
      "image/png": "[encoded data removed]",
      "text/plain": [
       "<Figure size 432x288 with 1 Axes>"
      ]
     },
     "metadata": {},
     "output_type": "display_data"
    }
   ],
   "source": [
    "plot = sns.countplot(df[\"PaymentType\"], \n",
    "                     hue=df[\"isRTO\"])"
   ]
  },
  {
   "cell_type": "code",
   "execution_count": 406,
   "metadata": {
    "scrolled": true
   },
   "outputs": [
    {
     "data": {
      "image/png": "[encoded data removed]",
      "text/plain": [
       "<Figure size 432x288 with 1 Axes>"
      ]
     },
     "metadata": {},
     "output_type": "display_data"
    }
   ],
   "source": [
    "plot = sns.countplot(df[\"OrderType\"], \n",
    "                     hue=df[\"isRTO\"])"
   ]
  },
  {
   "cell_type": "code",
   "execution_count": 407,
   "metadata": {},
   "outputs": [
    {
     "data": {
      "image/png": "[encoded data removed]",
      "text/plain": [
       "<Figure size 720x360 with 1 Axes>"
      ]
     },
     "metadata": {},
     "output_type": "display_data"
    }
   ],
   "source": [
    "plt.figure(figsize=(10,5))\n",
    "plot = sns.countplot(df[\"OrderSource\"], \n",
    "                     hue=df[\"isRTO\"])\n"
   ]
  },
  {
   "cell_type": "code",
   "execution_count": 408,
   "metadata": {
    "scrolled": true
   },
   "outputs": [
    {
     "data": {
      "image/png": "[encoded data removed]",
      "text/plain": [
       "<Figure size 432x288 with 1 Axes>"
      ]
     },
     "metadata": {},
     "output_type": "display_data"
    }
   ],
   "source": [
    "plot = sns.countplot(df[\"OrderFromPromotionalEvent\"], \n",
    "                     hue=df[\"isRTO\"])"
   ]
  },
  {
   "cell_type": "code",
   "execution_count": 409,
   "metadata": {},
   "outputs": [
    {
     "data": {
      "image/png": "[encoded data removed]",
      "text/plain": [
       "<Figure size 432x288 with 1 Axes>"
      ]
     },
     "metadata": {},
     "output_type": "display_data"
    }
   ],
   "source": [
    "plot = sns.distplot(df[\"OrderValue\"],\n",
    "                    hist=True)"
   ]
  },
  {
   "cell_type": "code",
   "execution_count": 410,
   "metadata": {},
   "outputs": [
    {
     "data": {
      "image/png": "[encoded data removed]",
      "text/plain": [
       "<Figure size 432x432 with 3 Axes>"
      ]
     },
     "metadata": {},
     "output_type": "display_data"
    }
   ],
   "source": [
    "plot = sns.jointplot(x=df[\"OrderValue\"],\n",
    "                     y=df[\"DeliveryCharge\"])"
   ]
  },
  {
   "cell_type": "code",
   "execution_count": 411,
   "metadata": {},
   "outputs": [
    {
     "data": {
      "image/png": "[encoded data removed]",
      "text/plain": [
       "<Figure size 432x288 with 1 Axes>"
      ]
     },
     "metadata": {},
     "output_type": "display_data"
    }
   ],
   "source": [
    "plot = sns.boxplot(df[\"OrderValue\"])"
   ]
  },
  {
   "cell_type": "code",
   "execution_count": 412,
   "metadata": {
    "scrolled": true
   },
   "outputs": [
    {
     "data": {
      "text/plain": [
       "isRTO\n",
       "No     34.098996\n",
       "Yes    32.052117\n",
       "Name: DeliveryCharge, dtype: float64"
      ]
     },
     "execution_count": 412,
     "metadata": {},
     "output_type": "execute_result"
    }
   ],
   "source": [
    "df.groupby(\"isRTO\").DeliveryCharge.mean()"
   ]
  },
  {
   "cell_type": "code",
   "execution_count": 413,
   "metadata": {
    "scrolled": true
   },
   "outputs": [
    {
     "data": {
      "text/plain": [
       "Index(['OrderId', 'UserId', 'OrderValue', 'PaymentType', 'District',\n",
       "       'OrderSource', 'OrderType', 'DeliveryCharge', 'OrderPlacedDay',\n",
       "       'OrderConfirmDayOverPhone', 'IsCartOrder', 'OrderFromPromotionalEvent',\n",
       "       'isRTO'],\n",
       "      dtype='object')"
      ]
     },
     "execution_count": 413,
     "metadata": {},
     "output_type": "execute_result"
    }
   ],
   "source": [
    "df.columns"
   ]
  },
  {
   "cell_type": "code",
   "execution_count": 414,
   "metadata": {
    "scrolled": true
   },
   "outputs": [
    {
     "data": {
      "text/plain": [
       "OrderId                        int64\n",
       "UserId                         int64\n",
       "OrderValue                     int64\n",
       "PaymentType                   object\n",
       "District                      object\n",
       "OrderSource                   object\n",
       "OrderType                     object\n",
       "DeliveryCharge               float64\n",
       "OrderPlacedDay                object\n",
       "OrderConfirmDayOverPhone      object\n",
       "IsCartOrder                   object\n",
       "OrderFromPromotionalEvent     object\n",
       "isRTO                         object\n",
       "dtype: object"
      ]
     },
     "execution_count": 414,
     "metadata": {},
     "output_type": "execute_result"
    }
   ],
   "source": [
    "df.dtypes"
   ]
  },
  {
   "cell_type": "code",
   "execution_count": 415,
   "metadata": {},
   "outputs": [
    {
     "name": "stdout",
     "output_type": "stream",
     "text": [
      "PaymentType ----> {0: 'ADC                 ', 1: 'E-COD               ', 2: 'EMI                 ', 3: 'MPC                 ', 4: 'MPD                 ', 5: 'MPS                 ', 6: 'OPS                 '}\n",
      "District ----> {0: 'Bagerhat', 1: 'Bandarban', 2: 'Barguna', 3: 'Barisal', 4: 'Bhola', 5: 'Bogra', 6: 'Brahmanbaria', 7: 'Chandpur', 8: 'Chapai-Nawabganj', 9: 'Chittagong (Outside City)', 10: 'Chittagong City', 11: 'Chuadanga', 12: 'Comilla', 13: \"Cox's-Bazar\", 14: 'Dhaka', 15: 'Dhaka (Outside City)', 16: 'Dinajpur', 17: 'Faridpur', 18: 'Feni', 19: 'Gaibandha', 20: 'Gazipur', 21: 'Gopalganj', 22: 'Habiganj', 23: 'Jamalpur', 24: 'Jessore', 25: 'Jhalokati', 26: 'Jhenaidah', 27: 'Joypurhat', 28: 'Khagrachhari', 29: 'Kishoreganj', 30: 'Kurigram', 31: 'Kushtia', 32: 'Lakshmipur', 33: 'Lalmonirhat', 34: 'Madaripur', 35: 'Magura', 36: 'Manikganj', 37: 'Meherpur', 38: 'Moulvibazar', 39: 'Munshiganj', 40: 'Mymensingh', 41: 'Naogaon', 42: 'Narail', 43: 'Narayanganj', 44: 'Narsingdi', 45: 'Natore', 46: 'Netrokona', 47: 'Nilphamari', 48: 'Noakhali', 49: 'Pabna', 50: 'Panchagarh', 51: 'Patuakhali', 52: 'Pirojpur', 53: 'Rajbari', 54: 'Rajshahi (Outside City)', 55: 'Rajshahi City', 56: 'Rangamati', 57: 'Rangpur', 58: 'Satkhira', 59: 'Shariatpur', 60: 'Sherpur', 61: 'Sirajganj', 62: 'Sunamganj', 63: 'Sylhet (Outside City)', 64: 'Sylhet City', 65: 'Tangail', 66: 'Thakurgaon', 67: 'khulna (Outside City)', 68: 'khulna City'}\n",
      "OrderSource ----> {0: '-1', 1: 'A2I', 2: 'Others', 3: 'ajkerdeal', 4: 'android', 5: 'byphone', 6: 'desktop', 7: 'mobile-site', 8: 'www.google.com'}\n",
      "OrderType ----> {0: 'express', 1: 'normal'}\n",
      "IsCartOrder ----> {0: 'No', 1: 'Yes'}\n",
      "OrderFromPromotionalEvent ----> {0: 'No', 1: 'Yes'}\n",
      "isRTO ----> {0: 'No', 1: 'Yes'}\n"
     ]
    }
   ],
   "source": [
    "cat_cols = ['PaymentType','District','OrderSource','OrderType','IsCartOrder','OrderFromPromotionalEvent','isRTO']\n",
    "for col in cat_cols:\n",
    "    df[col] = df[col].astype('category')\n",
    "    print(col,'---->', dict(enumerate(df[col].cat.categories)))\n",
    "    df[col] = df[col].cat.codes"
   ]
  },
  {
   "cell_type": "code",
   "execution_count": 416,
   "metadata": {},
   "outputs": [
    {
     "data": {
      "text/html": [
       "<div>\n",
       "<style scoped>\n",
       "    .dataframe tbody tr th:only-of-type {\n",
       "        vertical-align: middle;\n",
       "    }\n",
       "\n",
       "    .dataframe tbody tr th {\n",
       "        vertical-align: top;\n",
       "    }\n",
       "\n",
       "    .dataframe thead th {\n",
       "        text-align: right;\n",
       "    }\n",
       "</style>\n",
       "<table border=\"1\" class=\"dataframe\">\n",
       "  <thead>\n",
       "    <tr style=\"text-align: right;\">\n",
       "      <th></th>\n",
       "      <th>OrderId</th>\n",
       "      <th>UserId</th>\n",
       "      <th>OrderValue</th>\n",
       "      <th>PaymentType</th>\n",
       "      <th>District</th>\n",
       "      <th>OrderSource</th>\n",
       "      <th>OrderType</th>\n",
       "      <th>DeliveryCharge</th>\n",
       "      <th>IsCartOrder</th>\n",
       "      <th>OrderFromPromotionalEvent</th>\n",
       "      <th>isRTO</th>\n",
       "    </tr>\n",
       "  </thead>\n",
       "  <tbody>\n",
       "    <tr>\n",
       "      <th>OrderId</th>\n",
       "      <td>1.000000</td>\n",
       "      <td>-0.015847</td>\n",
       "      <td>-0.004406</td>\n",
       "      <td>-0.063377</td>\n",
       "      <td>-0.090714</td>\n",
       "      <td>0.050423</td>\n",
       "      <td>-0.040551</td>\n",
       "      <td>-0.014454</td>\n",
       "      <td>-0.034550</td>\n",
       "      <td>0.018032</td>\n",
       "      <td>-0.193188</td>\n",
       "    </tr>\n",
       "    <tr>\n",
       "      <th>UserId</th>\n",
       "      <td>-0.015847</td>\n",
       "      <td>1.000000</td>\n",
       "      <td>-0.027036</td>\n",
       "      <td>0.047985</td>\n",
       "      <td>0.060094</td>\n",
       "      <td>-0.010503</td>\n",
       "      <td>-0.001260</td>\n",
       "      <td>0.120147</td>\n",
       "      <td>-0.109374</td>\n",
       "      <td>0.002648</td>\n",
       "      <td>0.020662</td>\n",
       "    </tr>\n",
       "    <tr>\n",
       "      <th>OrderValue</th>\n",
       "      <td>-0.004406</td>\n",
       "      <td>-0.027036</td>\n",
       "      <td>1.000000</td>\n",
       "      <td>0.044091</td>\n",
       "      <td>-0.006331</td>\n",
       "      <td>0.082708</td>\n",
       "      <td>-0.050334</td>\n",
       "      <td>0.155060</td>\n",
       "      <td>-0.090769</td>\n",
       "      <td>-0.265689</td>\n",
       "      <td>0.018192</td>\n",
       "    </tr>\n",
       "    <tr>\n",
       "      <th>PaymentType</th>\n",
       "      <td>-0.063377</td>\n",
       "      <td>0.047985</td>\n",
       "      <td>0.044091</td>\n",
       "      <td>1.000000</td>\n",
       "      <td>-0.003557</td>\n",
       "      <td>0.071338</td>\n",
       "      <td>-0.018262</td>\n",
       "      <td>-0.020335</td>\n",
       "      <td>0.074662</td>\n",
       "      <td>0.163196</td>\n",
       "      <td>0.000570</td>\n",
       "    </tr>\n",
       "    <tr>\n",
       "      <th>District</th>\n",
       "      <td>-0.090714</td>\n",
       "      <td>0.060094</td>\n",
       "      <td>-0.006331</td>\n",
       "      <td>-0.003557</td>\n",
       "      <td>1.000000</td>\n",
       "      <td>-0.080170</td>\n",
       "      <td>-0.095004</td>\n",
       "      <td>0.204678</td>\n",
       "      <td>0.004896</td>\n",
       "      <td>-0.008521</td>\n",
       "      <td>-0.059483</td>\n",
       "    </tr>\n",
       "    <tr>\n",
       "      <th>OrderSource</th>\n",
       "      <td>0.050423</td>\n",
       "      <td>-0.010503</td>\n",
       "      <td>0.082708</td>\n",
       "      <td>0.071338</td>\n",
       "      <td>-0.080170</td>\n",
       "      <td>1.000000</td>\n",
       "      <td>-0.126600</td>\n",
       "      <td>0.039496</td>\n",
       "      <td>0.016737</td>\n",
       "      <td>-0.057017</td>\n",
       "      <td>0.015815</td>\n",
       "    </tr>\n",
       "    <tr>\n",
       "      <th>OrderType</th>\n",
       "      <td>-0.040551</td>\n",
       "      <td>-0.001260</td>\n",
       "      <td>-0.050334</td>\n",
       "      <td>-0.018262</td>\n",
       "      <td>-0.095004</td>\n",
       "      <td>-0.126600</td>\n",
       "      <td>1.000000</td>\n",
       "      <td>-0.210752</td>\n",
       "      <td>0.013701</td>\n",
       "      <td>0.053261</td>\n",
       "      <td>0.035927</td>\n",
       "    </tr>\n",
       "    <tr>\n",
       "      <th>DeliveryCharge</th>\n",
       "      <td>-0.014454</td>\n",
       "      <td>0.120147</td>\n",
       "      <td>0.155060</td>\n",
       "      <td>-0.020335</td>\n",
       "      <td>0.204678</td>\n",
       "      <td>0.039496</td>\n",
       "      <td>-0.210752</td>\n",
       "      <td>1.000000</td>\n",
       "      <td>-0.450959</td>\n",
       "      <td>-0.068213</td>\n",
       "      <td>-0.029759</td>\n",
       "    </tr>\n",
       "    <tr>\n",
       "      <th>IsCartOrder</th>\n",
       "      <td>-0.034550</td>\n",
       "      <td>-0.109374</td>\n",
       "      <td>-0.090769</td>\n",
       "      <td>0.074662</td>\n",
       "      <td>0.004896</td>\n",
       "      <td>0.016737</td>\n",
       "      <td>0.013701</td>\n",
       "      <td>-0.450959</td>\n",
       "      <td>1.000000</td>\n",
       "      <td>0.154896</td>\n",
       "      <td>-0.018121</td>\n",
       "    </tr>\n",
       "    <tr>\n",
       "      <th>OrderFromPromotionalEvent</th>\n",
       "      <td>0.018032</td>\n",
       "      <td>0.002648</td>\n",
       "      <td>-0.265689</td>\n",
       "      <td>0.163196</td>\n",
       "      <td>-0.008521</td>\n",
       "      <td>-0.057017</td>\n",
       "      <td>0.053261</td>\n",
       "      <td>-0.068213</td>\n",
       "      <td>0.154896</td>\n",
       "      <td>1.000000</td>\n",
       "      <td>0.015847</td>\n",
       "    </tr>\n",
       "    <tr>\n",
       "      <th>isRTO</th>\n",
       "      <td>-0.193188</td>\n",
       "      <td>0.020662</td>\n",
       "      <td>0.018192</td>\n",
       "      <td>0.000570</td>\n",
       "      <td>-0.059483</td>\n",
       "      <td>0.015815</td>\n",
       "      <td>0.035927</td>\n",
       "      <td>-0.029759</td>\n",
       "      <td>-0.018121</td>\n",
       "      <td>0.015847</td>\n",
       "      <td>1.000000</td>\n",
       "    </tr>\n",
       "  </tbody>\n",
       "</table>\n",
       "</div>"
      ],
      "text/plain": [
       "                            OrderId    UserId  OrderValue  PaymentType  \\\n",
       "OrderId                    1.000000 -0.015847   -0.004406    -0.063377   \n",
       "UserId                    -0.015847  1.000000   -0.027036     0.047985   \n",
       "OrderValue                -0.004406 -0.027036    1.000000     0.044091   \n",
       "PaymentType               -0.063377  0.047985    0.044091     1.000000   \n",
       "District                  -0.090714  0.060094   -0.006331    -0.003557   \n",
       "OrderSource                0.050423 -0.010503    0.082708     0.071338   \n",
       "OrderType                 -0.040551 -0.001260   -0.050334    -0.018262   \n",
       "DeliveryCharge            -0.014454  0.120147    0.155060    -0.020335   \n",
       "IsCartOrder               -0.034550 -0.109374   -0.090769     0.074662   \n",
       "OrderFromPromotionalEvent  0.018032  0.002648   -0.265689     0.163196   \n",
       "isRTO                     -0.193188  0.020662    0.018192     0.000570   \n",
       "\n",
       "                           District  OrderSource  OrderType  DeliveryCharge  \\\n",
       "OrderId                   -0.090714     0.050423  -0.040551       -0.014454   \n",
       "UserId                     0.060094    -0.010503  -0.001260        0.120147   \n",
       "OrderValue                -0.006331     0.082708  -0.050334        0.155060   \n",
       "PaymentType               -0.003557     0.071338  -0.018262       -0.020335   \n",
       "District                   1.000000    -0.080170  -0.095004        0.204678   \n",
       "OrderSource               -0.080170     1.000000  -0.126600        0.039496   \n",
       "OrderType                 -0.095004    -0.126600   1.000000       -0.210752   \n",
       "DeliveryCharge             0.204678     0.039496  -0.210752        1.000000   \n",
       "IsCartOrder                0.004896     0.016737   0.013701       -0.450959   \n",
       "OrderFromPromotionalEvent -0.008521    -0.057017   0.053261       -0.068213   \n",
       "isRTO                     -0.059483     0.015815   0.035927       -0.029759   \n",
       "\n",
       "                           IsCartOrder  OrderFromPromotionalEvent     isRTO  \n",
       "OrderId                      -0.034550                   0.018032 -0.193188  \n",
       "UserId                       -0.109374                   0.002648  0.020662  \n",
       "OrderValue                   -0.090769                  -0.265689  0.018192  \n",
       "PaymentType                   0.074662                   0.163196  0.000570  \n",
       "District                      0.004896                  -0.008521 -0.059483  \n",
       "OrderSource                   0.016737                  -0.057017  0.015815  \n",
       "OrderType                     0.013701                   0.053261  0.035927  \n",
       "DeliveryCharge               -0.450959                  -0.068213 -0.029759  \n",
       "IsCartOrder                   1.000000                   0.154896 -0.018121  \n",
       "OrderFromPromotionalEvent     0.154896                   1.000000  0.015847  \n",
       "isRTO                        -0.018121                   0.015847  1.000000  "
      ]
     },
     "execution_count": 416,
     "metadata": {},
     "output_type": "execute_result"
    }
   ],
   "source": [
    "df.corr()"
   ]
  },
  {
   "cell_type": "code",
   "execution_count": 417,
   "metadata": {},
   "outputs": [
    {
     "data": {
      "text/html": [
       "<div>\n",
       "<style scoped>\n",
       "    .dataframe tbody tr th:only-of-type {\n",
       "        vertical-align: middle;\n",
       "    }\n",
       "\n",
       "    .dataframe tbody tr th {\n",
       "        vertical-align: top;\n",
       "    }\n",
       "\n",
       "    .dataframe thead th {\n",
       "        text-align: right;\n",
       "    }\n",
       "</style>\n",
       "<table border=\"1\" class=\"dataframe\">\n",
       "  <thead>\n",
       "    <tr style=\"text-align: right;\">\n",
       "      <th></th>\n",
       "      <th>OrderId</th>\n",
       "      <th>UserId</th>\n",
       "      <th>OrderValue</th>\n",
       "      <th>PaymentType</th>\n",
       "      <th>District</th>\n",
       "      <th>OrderSource</th>\n",
       "      <th>OrderType</th>\n",
       "      <th>DeliveryCharge</th>\n",
       "      <th>IsCartOrder</th>\n",
       "      <th>OrderFromPromotionalEvent</th>\n",
       "      <th>isRTO</th>\n",
       "    </tr>\n",
       "  </thead>\n",
       "  <tbody>\n",
       "    <tr>\n",
       "      <th>0</th>\n",
       "      <td>2562691</td>\n",
       "      <td>663791</td>\n",
       "      <td>168</td>\n",
       "      <td>4</td>\n",
       "      <td>14</td>\n",
       "      <td>4</td>\n",
       "      <td>1</td>\n",
       "      <td>25.0</td>\n",
       "      <td>0</td>\n",
       "      <td>1</td>\n",
       "      <td>0</td>\n",
       "    </tr>\n",
       "    <tr>\n",
       "      <th>1</th>\n",
       "      <td>2561859</td>\n",
       "      <td>961083</td>\n",
       "      <td>240</td>\n",
       "      <td>4</td>\n",
       "      <td>14</td>\n",
       "      <td>7</td>\n",
       "      <td>1</td>\n",
       "      <td>35.0</td>\n",
       "      <td>0</td>\n",
       "      <td>1</td>\n",
       "      <td>0</td>\n",
       "    </tr>\n",
       "    <tr>\n",
       "      <th>2</th>\n",
       "      <td>2561434</td>\n",
       "      <td>848517</td>\n",
       "      <td>120</td>\n",
       "      <td>4</td>\n",
       "      <td>14</td>\n",
       "      <td>6</td>\n",
       "      <td>1</td>\n",
       "      <td>35.0</td>\n",
       "      <td>0</td>\n",
       "      <td>1</td>\n",
       "      <td>1</td>\n",
       "    </tr>\n",
       "    <tr>\n",
       "      <th>3</th>\n",
       "      <td>2561202</td>\n",
       "      <td>276304</td>\n",
       "      <td>185</td>\n",
       "      <td>4</td>\n",
       "      <td>14</td>\n",
       "      <td>4</td>\n",
       "      <td>1</td>\n",
       "      <td>25.0</td>\n",
       "      <td>1</td>\n",
       "      <td>0</td>\n",
       "      <td>0</td>\n",
       "    </tr>\n",
       "    <tr>\n",
       "      <th>4</th>\n",
       "      <td>2561033</td>\n",
       "      <td>955384</td>\n",
       "      <td>201</td>\n",
       "      <td>4</td>\n",
       "      <td>14</td>\n",
       "      <td>4</td>\n",
       "      <td>1</td>\n",
       "      <td>25.0</td>\n",
       "      <td>0</td>\n",
       "      <td>1</td>\n",
       "      <td>0</td>\n",
       "    </tr>\n",
       "    <tr>\n",
       "      <th>5</th>\n",
       "      <td>2560941</td>\n",
       "      <td>832391</td>\n",
       "      <td>155</td>\n",
       "      <td>4</td>\n",
       "      <td>14</td>\n",
       "      <td>4</td>\n",
       "      <td>1</td>\n",
       "      <td>25.0</td>\n",
       "      <td>0</td>\n",
       "      <td>1</td>\n",
       "      <td>0</td>\n",
       "    </tr>\n",
       "    <tr>\n",
       "      <th>6</th>\n",
       "      <td>2560917</td>\n",
       "      <td>832391</td>\n",
       "      <td>105</td>\n",
       "      <td>4</td>\n",
       "      <td>14</td>\n",
       "      <td>4</td>\n",
       "      <td>1</td>\n",
       "      <td>25.0</td>\n",
       "      <td>0</td>\n",
       "      <td>0</td>\n",
       "      <td>0</td>\n",
       "    </tr>\n",
       "    <tr>\n",
       "      <th>7</th>\n",
       "      <td>2560916</td>\n",
       "      <td>442723</td>\n",
       "      <td>120</td>\n",
       "      <td>4</td>\n",
       "      <td>14</td>\n",
       "      <td>4</td>\n",
       "      <td>1</td>\n",
       "      <td>25.0</td>\n",
       "      <td>0</td>\n",
       "      <td>1</td>\n",
       "      <td>0</td>\n",
       "    </tr>\n",
       "    <tr>\n",
       "      <th>8</th>\n",
       "      <td>2560895</td>\n",
       "      <td>959412</td>\n",
       "      <td>499</td>\n",
       "      <td>4</td>\n",
       "      <td>13</td>\n",
       "      <td>4</td>\n",
       "      <td>1</td>\n",
       "      <td>55.0</td>\n",
       "      <td>0</td>\n",
       "      <td>0</td>\n",
       "      <td>1</td>\n",
       "    </tr>\n",
       "    <tr>\n",
       "      <th>9</th>\n",
       "      <td>2560881</td>\n",
       "      <td>959412</td>\n",
       "      <td>159</td>\n",
       "      <td>4</td>\n",
       "      <td>13</td>\n",
       "      <td>4</td>\n",
       "      <td>1</td>\n",
       "      <td>55.0</td>\n",
       "      <td>0</td>\n",
       "      <td>0</td>\n",
       "      <td>1</td>\n",
       "    </tr>\n",
       "  </tbody>\n",
       "</table>\n",
       "</div>"
      ],
      "text/plain": [
       "   OrderId  UserId  OrderValue  PaymentType  District  OrderSource  OrderType  \\\n",
       "0  2562691  663791         168            4        14            4          1   \n",
       "1  2561859  961083         240            4        14            7          1   \n",
       "2  2561434  848517         120            4        14            6          1   \n",
       "3  2561202  276304         185            4        14            4          1   \n",
       "4  2561033  955384         201            4        14            4          1   \n",
       "5  2560941  832391         155            4        14            4          1   \n",
       "6  2560917  832391         105            4        14            4          1   \n",
       "7  2560916  442723         120            4        14            4          1   \n",
       "8  2560895  959412         499            4        13            4          1   \n",
       "9  2560881  959412         159            4        13            4          1   \n",
       "\n",
       "   DeliveryCharge  IsCartOrder  OrderFromPromotionalEvent  isRTO  \n",
       "0            25.0            0                          1      0  \n",
       "1            35.0            0                          1      0  \n",
       "2            35.0            0                          1      1  \n",
       "3            25.0            1                          0      0  \n",
       "4            25.0            0                          1      0  \n",
       "5            25.0            0                          1      0  \n",
       "6            25.0            0                          0      0  \n",
       "7            25.0            0                          1      0  \n",
       "8            55.0            0                          0      1  \n",
       "9            55.0            0                          0      1  "
      ]
     },
     "execution_count": 417,
     "metadata": {},
     "output_type": "execute_result"
    }
   ],
   "source": [
    "del df['OrderPlacedDay']\n",
    "del df['OrderConfirmDayOverPhone']\n",
    "df.head(10)"
   ]
  },
  {
   "cell_type": "code",
   "execution_count": 418,
   "metadata": {},
   "outputs": [
    {
     "name": "stdout",
     "output_type": "stream",
     "text": [
      "X_train:(7500, 10)\n",
      "y_train:(7500, 1)\n",
      "X_test: (2500, 10)\n",
      "y_test: (2500, 1)\n"
     ]
    }
   ],
   "source": [
    "from sklearn.model_selection import train_test_split\n",
    "\n",
    "X = df.loc[:, df.columns!='isRTO']\n",
    "y = df.loc[:, df.columns=='isRTO']\n",
    "\n",
    "X_train, X_test, y_train, y_test = train_test_split(X, y, test_size=0.25, random_state=1234)\n",
    "\n",
    "print(\"\"\"X_train:{}\n",
    "y_train:{}\n",
    "X_test: {}\n",
    "y_test: {}\"\"\".format(X_train.shape, y_train.shape, X_test.shape, y_test.shape))"
   ]
  },
  {
   "cell_type": "code",
   "execution_count": 419,
   "metadata": {},
   "outputs": [],
   "source": [
    "from sklearn.linear_model import LogisticRegression"
   ]
  },
  {
   "cell_type": "code",
   "execution_count": 420,
   "metadata": {},
   "outputs": [
    {
     "data": {
      "text/plain": [
       "LogisticRegression(C=1.0, class_weight=None, dual=False, fit_intercept=True,\n",
       "                   intercept_scaling=1, l1_ratio=None, max_iter=100,\n",
       "                   multi_class='auto', n_jobs=None, penalty='l2',\n",
       "                   random_state=None, solver='lbfgs', tol=0.0001, verbose=0,\n",
       "                   warm_start=False)"
      ]
     },
     "execution_count": 420,
     "metadata": {},
     "output_type": "execute_result"
    }
   ],
   "source": [
    "lr = LogisticRegression()\n",
    "lr.fit(X_train, y_train)"
   ]
  },
  {
   "cell_type": "code",
   "execution_count": 421,
   "metadata": {},
   "outputs": [
    {
     "data": {
      "text/plain": [
       "array([0, 0, 0, ..., 0, 0, 0], dtype=int8)"
      ]
     },
     "execution_count": 421,
     "metadata": {},
     "output_type": "execute_result"
    }
   ],
   "source": [
    "y_pred = lr.predict(X_test)\n",
    "y_pred"
   ]
  },
  {
   "cell_type": "code",
   "execution_count": 422,
   "metadata": {},
   "outputs": [
    {
     "data": {
      "text/html": [
       "<div>\n",
       "<style scoped>\n",
       "    .dataframe tbody tr th:only-of-type {\n",
       "        vertical-align: middle;\n",
       "    }\n",
       "\n",
       "    .dataframe tbody tr th {\n",
       "        vertical-align: top;\n",
       "    }\n",
       "\n",
       "    .dataframe thead th {\n",
       "        text-align: right;\n",
       "    }\n",
       "</style>\n",
       "<table border=\"1\" class=\"dataframe\">\n",
       "  <thead>\n",
       "    <tr style=\"text-align: right;\">\n",
       "      <th></th>\n",
       "      <th>true</th>\n",
       "      <th>pred</th>\n",
       "    </tr>\n",
       "  </thead>\n",
       "  <tbody>\n",
       "    <tr>\n",
       "      <th>0</th>\n",
       "      <td>0</td>\n",
       "      <td>0</td>\n",
       "    </tr>\n",
       "    <tr>\n",
       "      <th>1</th>\n",
       "      <td>0</td>\n",
       "      <td>0</td>\n",
       "    </tr>\n",
       "    <tr>\n",
       "      <th>2</th>\n",
       "      <td>0</td>\n",
       "      <td>0</td>\n",
       "    </tr>\n",
       "    <tr>\n",
       "      <th>3</th>\n",
       "      <td>0</td>\n",
       "      <td>0</td>\n",
       "    </tr>\n",
       "    <tr>\n",
       "      <th>4</th>\n",
       "      <td>0</td>\n",
       "      <td>0</td>\n",
       "    </tr>\n",
       "    <tr>\n",
       "      <th>5</th>\n",
       "      <td>0</td>\n",
       "      <td>0</td>\n",
       "    </tr>\n",
       "    <tr>\n",
       "      <th>6</th>\n",
       "      <td>0</td>\n",
       "      <td>0</td>\n",
       "    </tr>\n",
       "    <tr>\n",
       "      <th>7</th>\n",
       "      <td>1</td>\n",
       "      <td>0</td>\n",
       "    </tr>\n",
       "    <tr>\n",
       "      <th>8</th>\n",
       "      <td>1</td>\n",
       "      <td>0</td>\n",
       "    </tr>\n",
       "    <tr>\n",
       "      <th>9</th>\n",
       "      <td>0</td>\n",
       "      <td>0</td>\n",
       "    </tr>\n",
       "  </tbody>\n",
       "</table>\n",
       "</div>"
      ],
      "text/plain": [
       "   true  pred\n",
       "0     0     0\n",
       "1     0     0\n",
       "2     0     0\n",
       "3     0     0\n",
       "4     0     0\n",
       "5     0     0\n",
       "6     0     0\n",
       "7     1     0\n",
       "8     1     0\n",
       "9     0     0"
      ]
     },
     "execution_count": 422,
     "metadata": {},
     "output_type": "execute_result"
    }
   ],
   "source": [
    "pd.DataFrame({'true': y_test.values.ravel(), \n",
    "             'pred': y_pred.ravel()}).head(10)"
   ]
  },
  {
   "cell_type": "code",
   "execution_count": 423,
   "metadata": {},
   "outputs": [
    {
     "name": "stdout",
     "output_type": "stream",
     "text": [
      "The accuracy score is 0.8524\n"
     ]
    }
   ],
   "source": [
    "from sklearn.metrics import accuracy_score\n",
    "\n",
    "acc = accuracy_score(y_test, y_pred)\n",
    "print(\"The accuracy score is {}\".format(acc))"
   ]
  },
  {
   "cell_type": "code",
   "execution_count": 424,
   "metadata": {},
   "outputs": [
    {
     "data": {
      "text/plain": [
       "GaussianNB(priors=None, var_smoothing=1e-09)"
      ]
     },
     "execution_count": 424,
     "metadata": {},
     "output_type": "execute_result"
    }
   ],
   "source": [
    "from sklearn.naive_bayes import GaussianNB\n",
    "\n",
    "GaussianNB()"
   ]
  },
  {
   "cell_type": "code",
   "execution_count": 425,
   "metadata": {},
   "outputs": [],
   "source": [
    "NB = GaussianNB()"
   ]
  },
  {
   "cell_type": "code",
   "execution_count": 426,
   "metadata": {},
   "outputs": [
    {
     "data": {
      "text/plain": [
       "GaussianNB(priors=None, var_smoothing=1e-09)"
      ]
     },
     "execution_count": 426,
     "metadata": {},
     "output_type": "execute_result"
    }
   ],
   "source": [
    "NB.fit(X_train, y_train)"
   ]
  },
  {
   "cell_type": "code",
   "execution_count": 427,
   "metadata": {},
   "outputs": [
    {
     "data": {
      "text/plain": [
       "array([0, 0, 0, ..., 0, 0, 0], dtype=int8)"
      ]
     },
     "execution_count": 427,
     "metadata": {},
     "output_type": "execute_result"
    }
   ],
   "source": [
    "y_pred = NB.predict(X_test)\n",
    "y_pred"
   ]
  },
  {
   "cell_type": "code",
   "execution_count": 428,
   "metadata": {},
   "outputs": [
    {
     "data": {
      "text/html": [
       "<div>\n",
       "<style scoped>\n",
       "    .dataframe tbody tr th:only-of-type {\n",
       "        vertical-align: middle;\n",
       "    }\n",
       "\n",
       "    .dataframe tbody tr th {\n",
       "        vertical-align: top;\n",
       "    }\n",
       "\n",
       "    .dataframe thead th {\n",
       "        text-align: right;\n",
       "    }\n",
       "</style>\n",
       "<table border=\"1\" class=\"dataframe\">\n",
       "  <thead>\n",
       "    <tr style=\"text-align: right;\">\n",
       "      <th></th>\n",
       "      <th>true</th>\n",
       "      <th>pred</th>\n",
       "    </tr>\n",
       "  </thead>\n",
       "  <tbody>\n",
       "    <tr>\n",
       "      <th>0</th>\n",
       "      <td>0</td>\n",
       "      <td>0</td>\n",
       "    </tr>\n",
       "    <tr>\n",
       "      <th>1</th>\n",
       "      <td>0</td>\n",
       "      <td>0</td>\n",
       "    </tr>\n",
       "    <tr>\n",
       "      <th>2</th>\n",
       "      <td>0</td>\n",
       "      <td>0</td>\n",
       "    </tr>\n",
       "    <tr>\n",
       "      <th>3</th>\n",
       "      <td>0</td>\n",
       "      <td>0</td>\n",
       "    </tr>\n",
       "    <tr>\n",
       "      <th>4</th>\n",
       "      <td>0</td>\n",
       "      <td>0</td>\n",
       "    </tr>\n",
       "    <tr>\n",
       "      <th>5</th>\n",
       "      <td>0</td>\n",
       "      <td>0</td>\n",
       "    </tr>\n",
       "    <tr>\n",
       "      <th>6</th>\n",
       "      <td>0</td>\n",
       "      <td>0</td>\n",
       "    </tr>\n",
       "    <tr>\n",
       "      <th>7</th>\n",
       "      <td>1</td>\n",
       "      <td>0</td>\n",
       "    </tr>\n",
       "    <tr>\n",
       "      <th>8</th>\n",
       "      <td>1</td>\n",
       "      <td>0</td>\n",
       "    </tr>\n",
       "    <tr>\n",
       "      <th>9</th>\n",
       "      <td>0</td>\n",
       "      <td>0</td>\n",
       "    </tr>\n",
       "  </tbody>\n",
       "</table>\n",
       "</div>"
      ],
      "text/plain": [
       "   true  pred\n",
       "0     0     0\n",
       "1     0     0\n",
       "2     0     0\n",
       "3     0     0\n",
       "4     0     0\n",
       "5     0     0\n",
       "6     0     0\n",
       "7     1     0\n",
       "8     1     0\n",
       "9     0     0"
      ]
     },
     "execution_count": 428,
     "metadata": {},
     "output_type": "execute_result"
    }
   ],
   "source": [
    "pd.DataFrame({'true': y_test.values.ravel(), \n",
    "             'pred': y_pred.ravel()}).head(10)"
   ]
  },
  {
   "cell_type": "code",
   "execution_count": 429,
   "metadata": {},
   "outputs": [
    {
     "name": "stdout",
     "output_type": "stream",
     "text": [
      "The accuracy score is 0.8452\n"
     ]
    }
   ],
   "source": [
    "from sklearn.metrics import accuracy_score\n",
    "\n",
    "acc = accuracy_score(y_test, y_pred)\n",
    "print(\"The accuracy score is {}\".format(acc))"
   ]
  },
  {
   "cell_type": "code",
   "execution_count": 430,
   "metadata": {},
   "outputs": [],
   "source": [
    "from sklearn.neighbors import KNeighborsClassifier\n",
    "\n",
    "KNN = KNeighborsClassifier()"
   ]
  },
  {
   "cell_type": "code",
   "execution_count": 431,
   "metadata": {},
   "outputs": [
    {
     "data": {
      "text/plain": [
       "KNeighborsClassifier(algorithm='auto', leaf_size=30, metric='minkowski',\n",
       "                     metric_params=None, n_jobs=None, n_neighbors=5, p=2,\n",
       "                     weights='uniform')"
      ]
     },
     "execution_count": 431,
     "metadata": {},
     "output_type": "execute_result"
    }
   ],
   "source": [
    "KNN.fit(X_train, y_train)"
   ]
  },
  {
   "cell_type": "code",
   "execution_count": 432,
   "metadata": {},
   "outputs": [
    {
     "data": {
      "text/plain": [
       "array([0, 0, 0, ..., 0, 0, 0], dtype=int8)"
      ]
     },
     "execution_count": 432,
     "metadata": {},
     "output_type": "execute_result"
    }
   ],
   "source": [
    "y_pred = KNN.predict(X_test)\n",
    "y_pred"
   ]
  },
  {
   "cell_type": "code",
   "execution_count": 433,
   "metadata": {},
   "outputs": [
    {
     "data": {
      "text/html": [
       "<div>\n",
       "<style scoped>\n",
       "    .dataframe tbody tr th:only-of-type {\n",
       "        vertical-align: middle;\n",
       "    }\n",
       "\n",
       "    .dataframe tbody tr th {\n",
       "        vertical-align: top;\n",
       "    }\n",
       "\n",
       "    .dataframe thead th {\n",
       "        text-align: right;\n",
       "    }\n",
       "</style>\n",
       "<table border=\"1\" class=\"dataframe\">\n",
       "  <thead>\n",
       "    <tr style=\"text-align: right;\">\n",
       "      <th></th>\n",
       "      <th>true</th>\n",
       "      <th>pred</th>\n",
       "    </tr>\n",
       "  </thead>\n",
       "  <tbody>\n",
       "    <tr>\n",
       "      <th>0</th>\n",
       "      <td>0</td>\n",
       "      <td>0</td>\n",
       "    </tr>\n",
       "    <tr>\n",
       "      <th>1</th>\n",
       "      <td>0</td>\n",
       "      <td>0</td>\n",
       "    </tr>\n",
       "    <tr>\n",
       "      <th>2</th>\n",
       "      <td>0</td>\n",
       "      <td>0</td>\n",
       "    </tr>\n",
       "    <tr>\n",
       "      <th>3</th>\n",
       "      <td>0</td>\n",
       "      <td>0</td>\n",
       "    </tr>\n",
       "    <tr>\n",
       "      <th>4</th>\n",
       "      <td>0</td>\n",
       "      <td>0</td>\n",
       "    </tr>\n",
       "    <tr>\n",
       "      <th>5</th>\n",
       "      <td>0</td>\n",
       "      <td>1</td>\n",
       "    </tr>\n",
       "    <tr>\n",
       "      <th>6</th>\n",
       "      <td>0</td>\n",
       "      <td>0</td>\n",
       "    </tr>\n",
       "    <tr>\n",
       "      <th>7</th>\n",
       "      <td>1</td>\n",
       "      <td>1</td>\n",
       "    </tr>\n",
       "    <tr>\n",
       "      <th>8</th>\n",
       "      <td>1</td>\n",
       "      <td>0</td>\n",
       "    </tr>\n",
       "    <tr>\n",
       "      <th>9</th>\n",
       "      <td>0</td>\n",
       "      <td>1</td>\n",
       "    </tr>\n",
       "  </tbody>\n",
       "</table>\n",
       "</div>"
      ],
      "text/plain": [
       "   true  pred\n",
       "0     0     0\n",
       "1     0     0\n",
       "2     0     0\n",
       "3     0     0\n",
       "4     0     0\n",
       "5     0     1\n",
       "6     0     0\n",
       "7     1     1\n",
       "8     1     0\n",
       "9     0     1"
      ]
     },
     "execution_count": 433,
     "metadata": {},
     "output_type": "execute_result"
    }
   ],
   "source": [
    "pd.DataFrame({'true': y_test.values.ravel(), \n",
    "             'pred': y_pred.ravel()}).head(10)"
   ]
  },
  {
   "cell_type": "code",
   "execution_count": 434,
   "metadata": {},
   "outputs": [
    {
     "name": "stdout",
     "output_type": "stream",
     "text": [
      "The accuracy score is 0.8396\n"
     ]
    }
   ],
   "source": [
    "acc = accuracy_score(y_test, y_pred)\n",
    "print(\"The accuracy score is {}\".format(acc))"
   ]
  },
  {
   "cell_type": "code",
   "execution_count": 435,
   "metadata": {},
   "outputs": [],
   "source": [
    "from sklearn.tree import DecisionTreeClassifier\n",
    "\n",
    "DT = DecisionTreeClassifier()"
   ]
  },
  {
   "cell_type": "code",
   "execution_count": 436,
   "metadata": {},
   "outputs": [
    {
     "data": {
      "text/plain": [
       "DecisionTreeClassifier(ccp_alpha=0.0, class_weight=None, criterion='gini',\n",
       "                       max_depth=None, max_features=None, max_leaf_nodes=None,\n",
       "                       min_impurity_decrease=0.0, min_impurity_split=None,\n",
       "                       min_samples_leaf=1, min_samples_split=2,\n",
       "                       min_weight_fraction_leaf=0.0, presort='deprecated',\n",
       "                       random_state=None, splitter='best')"
      ]
     },
     "execution_count": 436,
     "metadata": {},
     "output_type": "execute_result"
    }
   ],
   "source": [
    "DT.fit(X_train, y_train)"
   ]
  },
  {
   "cell_type": "code",
   "execution_count": 437,
   "metadata": {},
   "outputs": [
    {
     "data": {
      "text/plain": [
       "array([0, 0, 0, ..., 0, 0, 0], dtype=int8)"
      ]
     },
     "execution_count": 437,
     "metadata": {},
     "output_type": "execute_result"
    }
   ],
   "source": [
    "y_pred = DT.predict(X_test)\n",
    "y_pred"
   ]
  },
  {
   "cell_type": "code",
   "execution_count": 438,
   "metadata": {},
   "outputs": [
    {
     "data": {
      "text/html": [
       "<div>\n",
       "<style scoped>\n",
       "    .dataframe tbody tr th:only-of-type {\n",
       "        vertical-align: middle;\n",
       "    }\n",
       "\n",
       "    .dataframe tbody tr th {\n",
       "        vertical-align: top;\n",
       "    }\n",
       "\n",
       "    .dataframe thead th {\n",
       "        text-align: right;\n",
       "    }\n",
       "</style>\n",
       "<table border=\"1\" class=\"dataframe\">\n",
       "  <thead>\n",
       "    <tr style=\"text-align: right;\">\n",
       "      <th></th>\n",
       "      <th>true</th>\n",
       "      <th>pred</th>\n",
       "    </tr>\n",
       "  </thead>\n",
       "  <tbody>\n",
       "    <tr>\n",
       "      <th>0</th>\n",
       "      <td>0</td>\n",
       "      <td>0</td>\n",
       "    </tr>\n",
       "    <tr>\n",
       "      <th>1</th>\n",
       "      <td>0</td>\n",
       "      <td>0</td>\n",
       "    </tr>\n",
       "    <tr>\n",
       "      <th>2</th>\n",
       "      <td>0</td>\n",
       "      <td>0</td>\n",
       "    </tr>\n",
       "    <tr>\n",
       "      <th>3</th>\n",
       "      <td>0</td>\n",
       "      <td>0</td>\n",
       "    </tr>\n",
       "    <tr>\n",
       "      <th>4</th>\n",
       "      <td>0</td>\n",
       "      <td>0</td>\n",
       "    </tr>\n",
       "    <tr>\n",
       "      <th>5</th>\n",
       "      <td>0</td>\n",
       "      <td>0</td>\n",
       "    </tr>\n",
       "    <tr>\n",
       "      <th>6</th>\n",
       "      <td>0</td>\n",
       "      <td>0</td>\n",
       "    </tr>\n",
       "    <tr>\n",
       "      <th>7</th>\n",
       "      <td>1</td>\n",
       "      <td>0</td>\n",
       "    </tr>\n",
       "    <tr>\n",
       "      <th>8</th>\n",
       "      <td>1</td>\n",
       "      <td>0</td>\n",
       "    </tr>\n",
       "    <tr>\n",
       "      <th>9</th>\n",
       "      <td>0</td>\n",
       "      <td>0</td>\n",
       "    </tr>\n",
       "  </tbody>\n",
       "</table>\n",
       "</div>"
      ],
      "text/plain": [
       "   true  pred\n",
       "0     0     0\n",
       "1     0     0\n",
       "2     0     0\n",
       "3     0     0\n",
       "4     0     0\n",
       "5     0     0\n",
       "6     0     0\n",
       "7     1     0\n",
       "8     1     0\n",
       "9     0     0"
      ]
     },
     "execution_count": 438,
     "metadata": {},
     "output_type": "execute_result"
    }
   ],
   "source": [
    "pd.DataFrame({'true': y_test.values.ravel(), \n",
    "             'pred': y_pred.ravel()}).head(10)"
   ]
  },
  {
   "cell_type": "code",
   "execution_count": 439,
   "metadata": {},
   "outputs": [
    {
     "name": "stdout",
     "output_type": "stream",
     "text": [
      "The accuracy score is 0.7976\n"
     ]
    }
   ],
   "source": [
    "acc = accuracy_score(y_test, y_pred)\n",
    "print(\"The accuracy score is {}\".format(acc))"
   ]
  },
  {
   "cell_type": "code",
   "execution_count": 440,
   "metadata": {},
   "outputs": [],
   "source": [
    "from sklearn import svm\n",
    "Svm = svm.SVC()"
   ]
  },
  {
   "cell_type": "code",
   "execution_count": 441,
   "metadata": {},
   "outputs": [
    {
     "data": {
      "text/plain": [
       "SVC(C=1.0, break_ties=False, cache_size=200, class_weight=None, coef0=0.0,\n",
       "    decision_function_shape='ovr', degree=3, gamma='scale', kernel='rbf',\n",
       "    max_iter=-1, probability=False, random_state=None, shrinking=True,\n",
       "    tol=0.001, verbose=False)"
      ]
     },
     "execution_count": 441,
     "metadata": {},
     "output_type": "execute_result"
    }
   ],
   "source": [
    "Svm.fit(X_train, y_train)"
   ]
  },
  {
   "cell_type": "code",
   "execution_count": 442,
   "metadata": {},
   "outputs": [
    {
     "data": {
      "text/plain": [
       "array([0, 0, 0, ..., 0, 0, 0], dtype=int8)"
      ]
     },
     "execution_count": 442,
     "metadata": {},
     "output_type": "execute_result"
    }
   ],
   "source": [
    "y_pred = Svm.predict(X_test)\n",
    "y_pred"
   ]
  },
  {
   "cell_type": "code",
   "execution_count": 443,
   "metadata": {
    "scrolled": true
   },
   "outputs": [
    {
     "data": {
      "text/html": [
       "<div>\n",
       "<style scoped>\n",
       "    .dataframe tbody tr th:only-of-type {\n",
       "        vertical-align: middle;\n",
       "    }\n",
       "\n",
       "    .dataframe tbody tr th {\n",
       "        vertical-align: top;\n",
       "    }\n",
       "\n",
       "    .dataframe thead th {\n",
       "        text-align: right;\n",
       "    }\n",
       "</style>\n",
       "<table border=\"1\" class=\"dataframe\">\n",
       "  <thead>\n",
       "    <tr style=\"text-align: right;\">\n",
       "      <th></th>\n",
       "      <th>true</th>\n",
       "      <th>pred</th>\n",
       "    </tr>\n",
       "  </thead>\n",
       "  <tbody>\n",
       "    <tr>\n",
       "      <th>0</th>\n",
       "      <td>0</td>\n",
       "      <td>0</td>\n",
       "    </tr>\n",
       "    <tr>\n",
       "      <th>1</th>\n",
       "      <td>0</td>\n",
       "      <td>0</td>\n",
       "    </tr>\n",
       "    <tr>\n",
       "      <th>2</th>\n",
       "      <td>0</td>\n",
       "      <td>0</td>\n",
       "    </tr>\n",
       "    <tr>\n",
       "      <th>3</th>\n",
       "      <td>0</td>\n",
       "      <td>0</td>\n",
       "    </tr>\n",
       "    <tr>\n",
       "      <th>4</th>\n",
       "      <td>0</td>\n",
       "      <td>0</td>\n",
       "    </tr>\n",
       "    <tr>\n",
       "      <th>5</th>\n",
       "      <td>0</td>\n",
       "      <td>0</td>\n",
       "    </tr>\n",
       "    <tr>\n",
       "      <th>6</th>\n",
       "      <td>0</td>\n",
       "      <td>0</td>\n",
       "    </tr>\n",
       "    <tr>\n",
       "      <th>7</th>\n",
       "      <td>1</td>\n",
       "      <td>0</td>\n",
       "    </tr>\n",
       "    <tr>\n",
       "      <th>8</th>\n",
       "      <td>1</td>\n",
       "      <td>0</td>\n",
       "    </tr>\n",
       "    <tr>\n",
       "      <th>9</th>\n",
       "      <td>0</td>\n",
       "      <td>0</td>\n",
       "    </tr>\n",
       "  </tbody>\n",
       "</table>\n",
       "</div>"
      ],
      "text/plain": [
       "   true  pred\n",
       "0     0     0\n",
       "1     0     0\n",
       "2     0     0\n",
       "3     0     0\n",
       "4     0     0\n",
       "5     0     0\n",
       "6     0     0\n",
       "7     1     0\n",
       "8     1     0\n",
       "9     0     0"
      ]
     },
     "execution_count": 443,
     "metadata": {},
     "output_type": "execute_result"
    }
   ],
   "source": [
    "pd.DataFrame({'true': y_test.values.ravel(), \n",
    "             'pred': y_pred.ravel()}).head(10)"
   ]
  },
  {
   "cell_type": "code",
   "execution_count": 444,
   "metadata": {
    "scrolled": true
   },
   "outputs": [
    {
     "name": "stdout",
     "output_type": "stream",
     "text": [
      "The accuracy score is 0.8524\n"
     ]
    }
   ],
   "source": [
    "acc = accuracy_score(y_test, y_pred)\n",
    "print(\"The accuracy score is {}\".format(acc))"
   ]
  },
  {
   "cell_type": "code",
   "execution_count": 445,
   "metadata": {},
   "outputs": [],
   "source": [
    "from sklearn.model_selection import GridSearchCV"
   ]
  },
  {
   "cell_type": "code",
   "execution_count": 446,
   "metadata": {},
   "outputs": [],
   "source": [
    "param_grid = {\n",
    "    'C': np.logspace(-5, 8, 15),\n",
    "} "
   ]
  },
  {
   "cell_type": "code",
   "execution_count": 447,
   "metadata": {},
   "outputs": [],
   "source": [
    "def gridsearch(X, y, estimator, param_grid, cv=5, n_jobs=2):\n",
    "    grid = GridSearchCV(estimator=estimator, \n",
    "                        param_grid=param_grid, \n",
    "                        cv=cv, \n",
    "                        n_jobs=n_jobs)\n",
    "    grid.fit(X, y)\n",
    "    return grid.best_params_"
   ]
  },
  {
   "cell_type": "code",
   "execution_count": 448,
   "metadata": {},
   "outputs": [
    {
     "name": "stdout",
     "output_type": "stream",
     "text": [
      "{'C': 1e-05}\n"
     ]
    }
   ],
   "source": [
    "print(gridsearch(X_train, y_train, LogisticRegression(), param_grid, 5))"
   ]
  },
  {
   "cell_type": "code",
   "execution_count": 449,
   "metadata": {},
   "outputs": [
    {
     "name": "stdout",
     "output_type": "stream",
     "text": [
      "Model 1: 0.8524\n",
      "Model 2: 0.8524\n"
     ]
    }
   ],
   "source": [
    "from sklearn.metrics import accuracy_score\n",
    "\n",
    "model1 = LogisticRegression()\n",
    "model1.fit(X_train, y_train)\n",
    "y1_pred = model1.predict(X_test)\n",
    "acc1 = accuracy_score(y_test, y1_pred)\n",
    "\n",
    "model2 = LogisticRegression(C=0.05179474679231213, penalty='l2')\n",
    "model2.fit(X_train, y_train)\n",
    "y2_pred = model2.predict(X_test)\n",
    "acc2 = accuracy_score(y_test, y2_pred)\n",
    "\n",
    "print(\"\"\"Model 1: {}\n",
    "Model 2: {}\"\"\".format(acc1, acc2))"
   ]
  },
  {
   "cell_type": "code",
   "execution_count": 450,
   "metadata": {},
   "outputs": [],
   "source": [
    "from sklearn.model_selection import RandomizedSearchCV"
   ]
  },
  {
   "cell_type": "code",
   "execution_count": 451,
   "metadata": {},
   "outputs": [],
   "source": [
    "def randomsearch(X, y, estimator, param_grid, cv=5, n_iter=10, n_jobs=2, random_state=1234):\n",
    "    random = RandomizedSearchCV(estimator=estimator, \n",
    "                                param_distributions=param_grid, \n",
    "                                cv=cv, \n",
    "                                n_iter=n_iter, \n",
    "                                n_jobs=n_jobs,\n",
    "                                random_state=random_state)\n",
    "    random.fit(X, y)\n",
    "    return random.best_params_"
   ]
  },
  {
   "cell_type": "code",
   "execution_count": 452,
   "metadata": {},
   "outputs": [
    {
     "name": "stdout",
     "output_type": "stream",
     "text": [
      "{'C': 11787686.347935867}\n"
     ]
    }
   ],
   "source": [
    "print(randomsearch(X_train, y_train, LogisticRegression(), param_grid, 5))"
   ]
  },
  {
   "cell_type": "code",
   "execution_count": 453,
   "metadata": {},
   "outputs": [
    {
     "name": "stdout",
     "output_type": "stream",
     "text": [
      "Model 1: 0.8524\n",
      "Model 2: 0.8524\n"
     ]
    }
   ],
   "source": [
    "from sklearn.metrics import accuracy_score\n",
    "\n",
    "model1 = LogisticRegression()\n",
    "model1.fit(X_train, y_train)\n",
    "y1_pred = model1.predict(X_test)\n",
    "acc1 = accuracy_score(y_test, y1_pred)\n",
    "\n",
    "model2 = LogisticRegression(C= 0.006105402296585327, penalty='l2')\n",
    "model2.fit(X_train, y_train)\n",
    "y2_pred = model2.predict(X_test)\n",
    "acc2 = accuracy_score(y_test, y2_pred)\n",
    "\n",
    "print(\"\"\"Model 1: {}\n",
    "Model 2: {}\"\"\".format(acc1, acc2))"
   ]
  },
  {
   "cell_type": "code",
   "execution_count": 454,
   "metadata": {},
   "outputs": [],
   "source": [
    "def detect_outlier(feature):\n",
    "    Q1 = feature.quantile(0.25)\n",
    "    Q3 = feature.quantile(0.75)\n",
    "    \n",
    "    IQR = Q3-Q1\n",
    "    \n",
    "    lower_bound = Q1-(1.5*IQR)\n",
    "    upper_bound = Q3+(1.5*IQR)\n",
    "    \n",
    "    return feature.index[(feature<lower_bound)|(feature>upper_bound)].tolist()"
   ]
  },
  {
   "cell_type": "code",
   "execution_count": 455,
   "metadata": {},
   "outputs": [
    {
     "data": {
      "text/plain": [
       "Index(['OrderId', 'UserId', 'OrderValue', 'PaymentType', 'District',\n",
       "       'OrderSource', 'OrderType', 'DeliveryCharge', 'IsCartOrder',\n",
       "       'OrderFromPromotionalEvent', 'isRTO'],\n",
       "      dtype='object')"
      ]
     },
     "execution_count": 455,
     "metadata": {},
     "output_type": "execute_result"
    }
   ],
   "source": [
    "df.columns"
   ]
  },
  {
   "cell_type": "code",
   "execution_count": 456,
   "metadata": {
    "scrolled": false
   },
   "outputs": [
    {
     "name": "stdout",
     "output_type": "stream",
     "text": [
      "OrderValue --> [10, 14, 15, 30, 75, 97, 103, 104, 114, 115, 127, 130, 131, 133, 139, 141, 153, 196, 256, 260, 262, 269, 274, 277, 284, 285, 300, 308, 370, 403, 417, 427, 490, 500, 512, 517, 522, 559, 591, 592, 593, 614, 629, 631, 634, 651, 664, 672, 676, 725, 736, 743, 751, 757, 759, 760, 768, 787, 799, 819, 822, 838, 857, 863, 869, 890, 895, 902, 903, 933, 948, 950, 952, 957, 965, 987, 1021, 1028, 1033, 1056, 1100, 1107, 1111, 1126, 1130, 1138, 1152, 1153, 1180, 1208, 1218, 1254, 1262, 1272, 1298, 1309, 1330, 1332, 1335, 1341, 1352, 1355, 1387, 1389, 1395, 1470, 1473, 1487, 1493, 1498, 1504, 1513, 1524, 1531, 1538, 1540, 1560, 1573, 1574, 1589, 1601, 1605, 1615, 1624, 1625, 1634, 1642, 1647, 1654, 1657, 1658, 1676, 1685, 1695, 1698, 1726, 1733, 1736, 1750, 1757, 1793, 1813, 1846, 1872, 1906, 1910, 1918, 1938, 1940, 1945, 1955, 1975, 1982, 1985, 1989, 1994, 2010, 2021, 2114, 2135, 2196, 2206, 2214, 2229, 2282, 2300, 2320, 2389, 2390, 2411, 2425, 2448, 2455, 2477, 2486, 2495, 2496, 2515, 2524, 2540, 2544, 2552, 2559, 2567, 2570, 2581, 2602, 2608, 2614, 2629, 2631, 2635, 2638, 2643, 2655, 2671, 2708, 2743, 2752, 2761, 2767, 2797, 2825, 2847, 2864, 2872, 2910, 2927, 2934, 2941, 2945, 2969, 2973, 2995, 2997, 3010, 3017, 3024, 3071, 3077, 3078, 3105, 3109, 3128, 3161, 3163, 3172, 3179, 3186, 3215, 3257, 3262, 3267, 3276, 3289, 3299, 3314, 3315, 3316, 3334, 3335, 3386, 3390, 3396, 3405, 3407, 3408, 3411, 3421, 3431, 3445, 3446, 3466, 3473, 3503, 3521, 3523, 3530, 3566, 3577, 3601, 3602, 3603, 3643, 3672, 3674, 3695, 3696, 3708, 3727, 3738, 3741, 3758, 3760, 3778, 3779, 3802, 3807, 3813, 3828, 3843, 3872, 3873, 3875, 3882, 3894, 3895, 3904, 3931, 3952, 3963, 3983, 4004, 4005, 4013, 4022, 4029, 4048, 4051, 4053, 4056, 4062, 4064, 4067, 4072, 4092, 4094, 4096, 4099, 4109, 4118, 4119, 4131, 4132, 4142, 4177, 4178, 4224, 4234, 4235, 4279, 4303, 4333, 4346, 4391, 4395, 4403, 4411, 4423, 4424, 4425, 4433, 4464, 4468, 4470, 4501, 4508, 4554, 4557, 4559, 4562, 4571, 4634, 4637, 4643, 4650, 4665, 4670, 4700, 4716, 4725, 4728, 4729, 4764, 4771, 4783, 4793, 4806, 4814, 4815, 4823, 4848, 4859, 4869, 4875, 4891, 4902, 4928, 4929, 4958, 4993, 5019, 5036, 5051, 5062, 5066, 5077, 5093, 5096, 5115, 5151, 5172, 5200, 5205, 5217, 5224, 5228, 5253, 5259, 5261, 5270, 5284, 5308, 5316, 5332, 5333, 5344, 5371, 5393, 5400, 5403, 5412, 5413, 5460, 5478, 5483, 5491, 5497, 5502, 5503, 5505, 5509, 5512, 5519, 5526, 5578, 5602, 5627, 5688, 5689, 5702, 5716, 5723, 5742, 5769, 5771, 5783, 5808, 5823, 5834, 5853, 5868, 5885, 5889, 5907, 5911, 5923, 5928, 5940, 5969, 5985, 5994, 5997, 6023, 6026, 6028, 6051, 6052, 6060, 6079, 6106, 6119, 6160, 6162, 6171, 6201, 6205, 6207, 6209, 6223, 6255, 6263, 6303, 6323, 6330, 6346, 6353, 6357, 6366, 6377, 6395, 6422, 6461, 6489, 6493, 6494, 6509, 6514, 6518, 6536, 6544, 6584, 6586, 6594, 6611, 6613, 6620, 6654, 6660, 6668, 6679, 6702, 6722, 6730, 6734, 6737, 6738, 6749, 6766, 6768, 6787, 6793, 6797, 6799, 6848, 6871, 6882, 6911, 6916, 6927, 6930, 6931, 6935, 6946, 6952, 7011, 7029, 7038, 7050, 7060, 7082, 7089, 7106, 7108, 7123, 7126, 7127, 7176, 7192, 7211, 7227, 7247, 7269, 7277, 7288, 7292, 7293, 7295, 7309, 7310, 7328, 7329, 7334, 7338, 7344, 7350, 7359, 7390, 7391, 7392, 7400, 7438, 7439, 7440, 7445, 7449, 7461, 7478, 7486, 7517, 7541, 7564, 7574, 7577, 7603, 7615, 7621, 7628, 7631, 7636, 7652, 7658, 7663, 7671, 7676, 7705, 7706, 7707, 7714, 7717, 7719, 7720, 7741, 7742, 7744, 7747, 7768, 7780, 7801, 7809, 7853, 7854, 7865, 7878, 7880, 7916, 7922, 7926, 7932, 7940, 7950, 7954, 7981, 7990, 8035, 8046, 8055, 8057, 8065, 8069, 8071, 8115, 8127, 8150, 8155, 8179, 8221, 8237, 8247, 8255, 8304, 8306, 8390, 8401, 8413, 8414, 8420, 8446, 8489, 8491, 8512, 8520, 8522, 8529, 8548, 8563, 8609, 8639, 8746, 8760, 8774, 8781, 8784, 8798, 8809, 8859, 8862, 8866, 8867, 8878, 8935, 8943, 8958, 8972, 8975, 8982, 8992, 8997, 9002, 9003, 9009, 9030, 9037, 9042, 9043, 9099, 9102, 9115, 9125, 9126, 9201, 9204, 9207, 9224, 9245, 9279, 9286, 9301, 9347, 9348, 9357, 9383, 9384, 9397, 9441, 9469, 9507, 9549, 9564, 9602, 9630, 9635, 9638, 9643, 9647, 9649, 9687, 9736, 9744, 9762, 9781, 9804, 9821, 9822, 9848, 9850, 9866, 9873, 9922, 9950, 9960, 9973, 9974, 9975, 9987, 9999]\n",
      "DeliveryCharge --> [1666, 1676, 2211, 2540, 3172, 3431, 3446, 3729, 3741, 6129, 6359, 6573, 6578, 6702, 7079, 7362, 7439, 8128, 8299, 8784, 9030]\n"
     ]
    }
   ],
   "source": [
    "num_cols = ['OrderValue','DeliveryCharge']\n",
    "for col in num_cols:\n",
    "    print(col,'-->',detect_outlier(df[col]))"
   ]
  },
  {
   "cell_type": "code",
   "execution_count": 457,
   "metadata": {},
   "outputs": [],
   "source": [
    "for col in num_cols:\n",
    "    indx = detect_outlier(df[col])\n",
    "    df[col].loc[indx] = df[col].median()"
   ]
  },
  {
   "cell_type": "code",
   "execution_count": 458,
   "metadata": {},
   "outputs": [
    {
     "name": "stdout",
     "output_type": "stream",
     "text": [
      "OrderValue --> [76, 96, 140, 181, 222, 247, 253, 255, 264, 271, 313, 413, 527, 540, 542, 546, 564, 583, 584, 626, 637, 662, 670, 724, 754, 774, 898, 972, 978, 992, 1007, 1085, 1154, 1179, 1225, 1227, 1253, 1264, 1284, 1306, 1370, 1489, 1497, 1502, 1520, 1535, 1539, 1660, 1720, 1765, 1794, 1796, 1863, 1874, 1876, 1961, 1964, 1977, 2022, 2037, 2107, 2200, 2207, 2266, 2281, 2284, 2291, 2299, 2339, 2366, 2454, 2461, 2513, 2527, 2593, 2681, 2715, 2723, 2730, 2812, 2860, 2885, 2968, 3001, 3008, 3018, 3051, 3122, 3206, 3235, 3260, 3330, 3349, 3392, 3415, 3425, 3501, 3564, 3617, 3653, 3659, 3693, 3731, 3756, 3773, 3775, 3809, 3827, 3911, 3969, 3982, 4054, 4057, 4089, 4133, 4150, 4172, 4185, 4186, 4203, 4245, 4250, 4309, 4316, 4372, 4387, 4444, 4462, 4479, 4560, 4572, 4573, 4600, 4605, 4645, 4651, 4653, 4659, 4667, 4693, 4717, 4737, 4763, 4818, 4847, 4897, 4907, 4912, 4952, 4961, 4970, 5090, 5139, 5162, 5177, 5198, 5213, 5290, 5320, 5339, 5343, 5385, 5398, 5411, 5443, 5451, 5515, 5518, 5520, 5527, 5550, 5557, 5586, 5628, 5633, 5634, 5646, 5651, 5754, 5766, 5803, 5832, 5839, 5967, 6009, 6011, 6014, 6099, 6153, 6157, 6268, 6282, 6287, 6313, 6320, 6324, 6374, 6418, 6424, 6498, 6511, 6533, 6619, 6627, 6714, 6741, 6750, 6754, 6798, 6819, 6827, 6884, 6915, 6937, 6945, 6991, 7003, 7037, 7046, 7065, 7068, 7092, 7135, 7152, 7155, 7166, 7259, 7304, 7307, 7313, 7314, 7337, 7341, 7342, 7345, 7348, 7393, 7458, 7465, 7467, 7485, 7508, 7556, 7559, 7639, 7683, 7686, 7687, 7715, 7716, 7743, 7770, 7788, 7875, 7915, 7918, 7947, 7984, 8013, 8064, 8105, 8116, 8129, 8149, 8212, 8224, 8227, 8249, 8277, 8315, 8349, 8371, 8396, 8523, 8534, 8552, 8587, 8607, 8620, 8643, 8653, 8684, 8695, 8717, 8722, 8770, 8810, 8812, 8868, 8880, 8918, 8926, 8949, 8999, 9005, 9023, 9047, 9074, 9084, 9172, 9177, 9209, 9212, 9228, 9308, 9316, 9317, 9330, 9377, 9450, 9451, 9452, 9468, 9481, 9485, 9510, 9521, 9539, 9546, 9600, 9734, 9735, 9737, 9757, 9775, 9795, 9827, 9859, 9911, 9923, 9928, 9962]\n",
      "DeliveryCharge --> []\n"
     ]
    }
   ],
   "source": [
    "for col in num_cols:\n",
    "    print(col,'-->',detect_outlier(df[col]))"
   ]
  },
  {
   "cell_type": "code",
   "execution_count": 459,
   "metadata": {},
   "outputs": [
    {
     "name": "stdout",
     "output_type": "stream",
     "text": [
      "X_train:(7500, 10)\n",
      "y_train:(7500, 1)\n",
      "X_test: (2500, 10)\n",
      "y_test: (2500, 1)\n"
     ]
    }
   ],
   "source": [
    "from sklearn.model_selection import train_test_split\n",
    "\n",
    "X = df.loc[:, df.columns!='isRTO']\n",
    "y = df.loc[:, df.columns=='isRTO']\n",
    "\n",
    "X_train, X_test, y_train, y_test = train_test_split(X, y, test_size=0.25, random_state=1234)\n",
    "\n",
    "print(\"\"\"X_train:{}\n",
    "y_train:{}\n",
    "X_test: {}\n",
    "y_test: {}\"\"\".format(X_train.shape, y_train.shape, X_test.shape, y_test.shape))"
   ]
  },
  {
   "cell_type": "code",
   "execution_count": 460,
   "metadata": {},
   "outputs": [
    {
     "name": "stdout",
     "output_type": "stream",
     "text": [
      "Model 1: 0.8524\n",
      "Model 2: 0.8524\n"
     ]
    }
   ],
   "source": [
    "from sklearn.metrics import accuracy_score\n",
    "\n",
    "model1 = LogisticRegression()\n",
    "model1.fit(X_train, y_train)\n",
    "y1_pred = model1.predict(X_test)\n",
    "acc1 = accuracy_score(y_test, y1_pred)\n",
    "\n",
    "model2 = LogisticRegression(C=0.05179474679231213, penalty='l2')\n",
    "model2.fit(X_train, y_train)\n",
    "y2_pred = model2.predict(X_test)\n",
    "acc2 = accuracy_score(y_test, y2_pred)\n",
    "\n",
    "print(\"\"\"Model 1: {}\n",
    "Model 2: {}\"\"\".format(acc1, acc2))"
   ]
  },
  {
   "cell_type": "code",
   "execution_count": 461,
   "metadata": {
    "scrolled": true
   },
   "outputs": [
    {
     "data": {
      "image/png": "[encoded data removed]",
      "text/plain": [
       "<Figure size 432x288 with 1 Axes>"
      ]
     },
     "metadata": {},
     "output_type": "display_data"
    }
   ],
   "source": [
    "pd.Series(df['isRTO']).value_counts().plot.bar();"
   ]
  },
  {
   "cell_type": "code",
   "execution_count": 462,
   "metadata": {},
   "outputs": [
    {
     "data": {
      "text/plain": [
       "0    8465\n",
       "1    1535\n",
       "Name: isRTO, dtype: int64"
      ]
     },
     "execution_count": 462,
     "metadata": {},
     "output_type": "execute_result"
    }
   ],
   "source": [
    "df.isRTO.value_counts()"
   ]
  },
  {
   "cell_type": "code",
   "execution_count": 463,
   "metadata": {},
   "outputs": [
    {
     "data": {
      "text/plain": [
       "(10000, 11)"
      ]
     },
     "execution_count": 463,
     "metadata": {},
     "output_type": "execute_result"
    }
   ],
   "source": [
    "df.shape"
   ]
  },
  {
   "cell_type": "code",
   "execution_count": 464,
   "metadata": {},
   "outputs": [],
   "source": [
    "from sklearn.utils import resample"
   ]
  },
  {
   "cell_type": "code",
   "execution_count": 465,
   "metadata": {},
   "outputs": [
    {
     "data": {
      "text/plain": [
       "1    8465\n",
       "0    8465\n",
       "Name: isRTO, dtype: int64"
      ]
     },
     "execution_count": 465,
     "metadata": {},
     "output_type": "execute_result"
    }
   ],
   "source": [
    "# Separate majority and minority classes\n",
    "df_majority = df[df.isRTO==0]\n",
    "df_minority = df[df.isRTO==1]\n",
    " \n",
    "# Upsample minority class\n",
    "df_minority_upsampled = resample(df_minority, \n",
    "                                 replace=True,     # sample with replacement\n",
    "                                 n_samples=8465,    # to match majority class\n",
    "                                 random_state=123) # reproducible results\n",
    "df_upsampled = pd.concat([df_majority, df_minority_upsampled])\n",
    " \n",
    "df_upsampled.isRTO.value_counts()\n"
   ]
  },
  {
   "cell_type": "code",
   "execution_count": 466,
   "metadata": {},
   "outputs": [
    {
     "data": {
      "text/plain": [
       "1    1535\n",
       "0    1535\n",
       "Name: isRTO, dtype: int64"
      ]
     },
     "execution_count": 466,
     "metadata": {},
     "output_type": "execute_result"
    }
   ],
   "source": [
    "# Separate majority and minority classes\n",
    "df_majority = df[df.isRTO==0]\n",
    "df_minority = df[df.isRTO==1]\n",
    " \n",
    "# Downsample majority class\n",
    "df_majority_downsampled = resample(df_majority, \n",
    "                                 replace=False,    # sample without replacement\n",
    "                                 n_samples=1535,     # to match minority class\n",
    "                                 random_state=123) # reproducible results\n",
    " \n",
    "\n",
    "df_downsampled = pd.concat([df_majority_downsampled, df_minority])\n",
    "\n",
    "df_downsampled.isRTO.value_counts()"
   ]
  },
  {
   "cell_type": "code",
   "execution_count": 467,
   "metadata": {},
   "outputs": [
    {
     "name": "stdout",
     "output_type": "stream",
     "text": [
      "X_train:(12697, 10)\n",
      "y_train:(12697, 1)\n",
      "X_test: (4233, 10)\n",
      "y_test: (4233, 1)\n"
     ]
    }
   ],
   "source": [
    "from sklearn.model_selection import train_test_split\n",
    "\n",
    "X = df_upsampled.loc[:, df_upsampled.columns!='isRTO']\n",
    "y = df_upsampled.loc[:, df_upsampled.columns=='isRTO']\n",
    "\n",
    "X_train, X_test, y_train, y_test = train_test_split(X, y, test_size=0.25, random_state=1234)\n",
    "\n",
    "print(\"\"\"X_train:{}\n",
    "y_train:{}\n",
    "X_test: {}\n",
    "y_test: {}\"\"\".format(X_train.shape, y_train.shape, X_test.shape, y_test.shape))"
   ]
  },
  {
   "cell_type": "code",
   "execution_count": 468,
   "metadata": {},
   "outputs": [
    {
     "name": "stdout",
     "output_type": "stream",
     "text": [
      "Model 1: 0.5147649421214269\n",
      "Model 2: 0.5147649421214269\n"
     ]
    }
   ],
   "source": [
    "from sklearn.metrics import accuracy_score\n",
    "\n",
    "model1 = LogisticRegression()\n",
    "model1.fit(X_train, y_train)\n",
    "y1_pred = model1.predict(X_test)\n",
    "acc1 = accuracy_score(y_test, y1_pred)\n",
    "\n",
    "model2 = LogisticRegression(C=0.05179474679231213, penalty='l2')\n",
    "model2.fit(X_train, y_train)\n",
    "y2_pred = model2.predict(X_test)\n",
    "acc2 = accuracy_score(y_test, y2_pred)\n",
    "\n",
    "print(\"\"\"Model 1: {}\n",
    "Model 2: {}\"\"\".format(acc1, acc2))"
   ]
  },
  {
   "cell_type": "code",
   "execution_count": 469,
   "metadata": {},
   "outputs": [
    {
     "name": "stdout",
     "output_type": "stream",
     "text": [
      "X_train:(2302, 10)\n",
      "y_train:(2302, 1)\n",
      "X_test: (768, 10)\n",
      "y_test: (768, 1)\n"
     ]
    }
   ],
   "source": [
    "from sklearn.model_selection import train_test_split\n",
    "\n",
    "X = df_downsampled.loc[:, df_downsampled.columns!='isRTO']\n",
    "y = df_downsampled.loc[:, df_downsampled.columns=='isRTO']\n",
    "\n",
    "X_train, X_test, y_train, y_test = train_test_split(X, y, test_size=0.25, random_state=1234)\n",
    "\n",
    "print(\"\"\"X_train:{}\n",
    "y_train:{}\n",
    "X_test: {}\n",
    "y_test: {}\"\"\".format(X_train.shape, y_train.shape, X_test.shape, y_test.shape))"
   ]
  },
  {
   "cell_type": "code",
   "execution_count": 470,
   "metadata": {},
   "outputs": [
    {
     "name": "stdout",
     "output_type": "stream",
     "text": [
      "Model 1 Logistic: 0.5104166666666666\n",
      "Model 2 Logistic: 0.5104166666666666\n"
     ]
    }
   ],
   "source": [
    "from sklearn.metrics import accuracy_score\n",
    "\n",
    "model1 = LogisticRegression()\n",
    "model1.fit(X_train, y_train)\n",
    "y1_pred = model1.predict(X_test)\n",
    "acc1 = accuracy_score(y_test, y1_pred)\n",
    "\n",
    "model2 = LogisticRegression(C=0.05179474679231213, penalty='l2')\n",
    "model2.fit(X_train, y_train)\n",
    "y2_pred = model2.predict(X_test)\n",
    "acc2 = accuracy_score(y_test, y2_pred)\n",
    "\n",
    "print(\"\"\"Model 1 Logistic: {}\n",
    "Model 2 Logistic: {}\"\"\".format(acc1, acc2))"
   ]
  },
  {
   "cell_type": "code",
   "execution_count": 471,
   "metadata": {},
   "outputs": [
    {
     "name": "stdout",
     "output_type": "stream",
     "text": [
      "Model DecisionTree: 0.5104166666666666\n"
     ]
    }
   ],
   "source": [
    "DT.fit(X_train,y_train)\n",
    "y_pred = DT.predict(X_test)\n",
    "acc = accuracy_score(y_test, y2_pred)\n",
    "print(\"Model DecisionTree: {}\".format(acc))"
   ]
  },
  {
   "cell_type": "code",
   "execution_count": 472,
   "metadata": {},
   "outputs": [
    {
     "name": "stdout",
     "output_type": "stream",
     "text": [
      "Model NaiveBayes: 0.5104166666666666\n"
     ]
    }
   ],
   "source": [
    "NB.fit(X_train,y_train)\n",
    "y_pred = NB.predict(X_test)\n",
    "acc = accuracy_score(y_test, y2_pred)\n",
    "print(\"Model NaiveBayes: {}\".format(acc))"
   ]
  },
  {
   "cell_type": "code",
   "execution_count": 473,
   "metadata": {},
   "outputs": [
    {
     "name": "stdout",
     "output_type": "stream",
     "text": [
      "Model KNN: 0.5104166666666666\n"
     ]
    }
   ],
   "source": [
    "KNN.fit(X_train,y_train)\n",
    "y_pred = KNN.predict(X_test)\n",
    "acc = accuracy_score(y_test, y2_pred)\n",
    "print(\"Model KNN: {}\".format(acc))"
   ]
  },
  {
   "cell_type": "code",
   "execution_count": 474,
   "metadata": {},
   "outputs": [
    {
     "name": "stdout",
     "output_type": "stream",
     "text": [
      "Model SVM: 0.5104166666666666\n"
     ]
    }
   ],
   "source": [
    "Svm.fit(X_train,y_train)\n",
    "y_pred = Svm.predict(X_test)\n",
    "acc = accuracy_score(y_test, y2_pred)\n",
    "print(\"Model SVM: {}\".format(acc))"
   ]
  },
  {
   "cell_type": "code",
   "execution_count": 475,
   "metadata": {},
   "outputs": [
    {
     "name": "stdout",
     "output_type": "stream",
     "text": [
      "Training datset: (6000, 10),\n",
      "Validation Dataset: (2000, 10),\n",
      "Test Dataset: (2000, 10),\n",
      "\n"
     ]
    }
   ],
   "source": [
    "from sklearn.model_selection import train_test_split\n",
    "\n",
    "X = df.loc[:, df.columns!='isRTO']\n",
    "y = df.loc[:, df.columns=='isRTO']\n",
    "\n",
    "X_train, X_test, y_train, y_test = train_test_split(X, y, test_size=0.2, shuffle=True, random_state=123)\n",
    "X_train, X_val, y_train, y_val = train_test_split(X_train, y_train, test_size=0.25, shuffle=True, random_state=123)\n",
    "\n",
    "print(\"\"\"Training datset: {},\n",
    "Validation Dataset: {},\n",
    "Test Dataset: {},\n",
    "\"\"\".format(X_train.shape, X_val.shape, X_test.shape))"
   ]
  },
  {
   "cell_type": "code",
   "execution_count": 476,
   "metadata": {},
   "outputs": [
    {
     "name": "stdout",
     "output_type": "stream",
     "text": [
      "Model 1 Test Accuracy: 0.859\n"
     ]
    }
   ],
   "source": [
    "model1 = LogisticRegression(C=1.0, penalty='l2').fit(X_train, y_train)\n",
    "\n",
    "model1_yval = model1.predict(X_val)\n",
    "model1_ytest = model1.predict(X_test)\n",
    "\n",
    "acc1_val = accuracy_score(y_test, model1_yval)\n",
    "acc1_test = accuracy_score(y_test, model1_ytest)\n",
    "\n",
    "# print(\"Model 1 Validation Accuracy: {}\".format(acc1_val))\n",
    "print(\"Model 1 Test Accuracy: {}\".format(acc1_test))"
   ]
  },
  {
   "cell_type": "code",
   "execution_count": 477,
   "metadata": {},
   "outputs": [
    {
     "name": "stdout",
     "output_type": "stream",
     "text": [
      "Training datset: (1842, 10),\n",
      "Validation Dataset: (614, 10),\n",
      "Test Dataset: (614, 10),\n",
      "\n"
     ]
    }
   ],
   "source": [
    "from sklearn.model_selection import train_test_split\n",
    "\n",
    "X = df_downsampled.loc[:, df_downsampled.columns!='isRTO']\n",
    "y = df_downsampled.loc[:, df_downsampled.columns=='isRTO']\n",
    "\n",
    "X_train, X_test, y_train, y_test = train_test_split(X, y, test_size=0.2, shuffle=True, random_state=123)\n",
    "X_train, X_val, y_train, y_val = train_test_split(X_train, y_train, test_size=0.25, shuffle=True, random_state=123)\n",
    "\n",
    "print(\"\"\"Training datset: {},\n",
    "Validation Dataset: {},\n",
    "Test Dataset: {},\n",
    "\"\"\".format(X_train.shape, X_val.shape, X_test.shape))"
   ]
  },
  {
   "cell_type": "code",
   "execution_count": 478,
   "metadata": {},
   "outputs": [
    {
     "name": "stdout",
     "output_type": "stream",
     "text": [
      "Model 1 Test Accuracy: 0.4804560260586319\n"
     ]
    }
   ],
   "source": [
    "model1 = LogisticRegression(C=1.0, penalty='l2').fit(X_train, y_train)\n",
    "\n",
    "model1_yval = model1.predict(X_val)\n",
    "model1_ytest = model1.predict(X_test)\n",
    "\n",
    "acc1_val = accuracy_score(y_test, model1_yval)\n",
    "acc1_test = accuracy_score(y_test, model1_ytest)\n",
    "\n",
    "# print(\"Model 1 Validation Accuracy: {}\".format(acc1_val))\n",
    "print(\"Model 1 Test Accuracy: {}\".format(acc1_test))"
   ]
  },
  {
   "cell_type": "code",
   "execution_count": 479,
   "metadata": {},
   "outputs": [
    {
     "name": "stdout",
     "output_type": "stream",
     "text": [
      "Model 2 Validation Accuracy: 0.47068403908794787\n",
      "Model 2 Test Accuracy: 0.4804560260586319\n"
     ]
    }
   ],
   "source": [
    "model2 = LogisticRegression(C=1.0, penalty='l2').fit(X_train, y_train)\n",
    "\n",
    "model2_yval = model2.predict(X_val)\n",
    "model2_ytest = model2.predict(X_test)\n",
    "\n",
    "acc2_val = accuracy_score(y_test, model2_yval)\n",
    "acc2_test = accuracy_score(y_test, model2_ytest)\n",
    "\n",
    "print(\"Model 2 Validation Accuracy: {}\".format(acc2_val))\n",
    "print(\"Model 2 Test Accuracy: {}\".format(acc2_test))"
   ]
  },
  {
   "cell_type": "code",
   "execution_count": 480,
   "metadata": {},
   "outputs": [
    {
     "name": "stdout",
     "output_type": "stream",
     "text": [
      "Model 3 Validation Accuracy: 0.47068403908794787\n",
      "Model 3 Test Accuracy: 0.4804560260586319\n"
     ]
    }
   ],
   "source": [
    "model3 = LogisticRegression(C=0.0001, penalty='l2').fit(X_train, y_train)\n",
    "\n",
    "model3_yval = model3.predict(X_val)\n",
    "model3_ytest = model3.predict(X_test)\n",
    "\n",
    "acc3_val = accuracy_score(y_test, model3_yval)\n",
    "acc3_test = accuracy_score(y_test, model3_ytest)\n",
    "\n",
    "print(\"Model 3 Validation Accuracy: {}\".format(acc3_val))\n",
    "print(\"Model 3 Test Accuracy: {}\".format(acc3_test))"
   ]
  }
 ],
 "metadata": {
  "kernelspec": {
   "display_name": "Python 3",
   "language": "python",
   "name": "python3"
  },
  "language_info": {
   "codemirror_mode": {
    "name": "ipython",
    "version": 3
   },
   "file_extension": ".py",
   "mimetype": "text/x-python",
   "name": "python",
   "nbconvert_exporter": "python",
   "pygments_lexer": "ipython3",
   "version": "3.7.6"
  }
 },
 "nbformat": 4,
 "nbformat_minor": 4
}
